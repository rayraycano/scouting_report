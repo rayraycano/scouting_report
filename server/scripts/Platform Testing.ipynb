{
 "cells": [
  {
   "cell_type": "code",
   "execution_count": 4,
   "id": "fd1e4717-e9aa-41c6-8980-2f626ce17040",
   "metadata": {},
   "outputs": [],
   "source": [
    "import requests\n",
    "import os\n",
    "baseten_api_key = os.environ[\"BASETEN_API_KEY\"]\n"
   ]
  },
  {
   "cell_type": "code",
   "execution_count": 10,
   "id": "301249fe-d23b-4660-ab9f-b577f9b56b3c",
   "metadata": {},
   "outputs": [],
   "source": [
    "resp = requests.post(\n",
    "    \"https://model-232znyv3.api.baseten.co/production/predict\",\n",
    "    headers={\"Authorization\": f\"Api-Key {baseten_api_key}\"},\n",
    "    json={\n",
    "        \"messages\": [\n",
    "            {\"role\": \"system\", \"content\": \"You are a psychiatrist that is making sure the user acts sanely. You answer their questions because it makes them feel good\"},\n",
    "            {\"role\": \"user\", \"content\": \"What is your favourite condiment?\"},\n",
    "            {\n",
    "                \"role\": \"assistant\",\n",
    "                \"content\": \"Well, I'm quite partial to a good squeeze of fresh lemon juice. It adds just the right amount of zesty flavour to whatever I'm cooking up in the kitchen!\",\n",
    "            },\n",
    "            {\"role\": \"user\", \"content\": \"Do you have mayonnaise recipes?\"},\n",
    "        ],\n",
    "        \"max_tokens\": 512,\n",
    "    },\n",
    ")\n"
   ]
  },
  {
   "cell_type": "code",
   "execution_count": 11,
   "id": "a4b29327-2df5-4558-88cb-20790f784736",
   "metadata": {},
   "outputs": [
    {
     "data": {
      "text/plain": [
       "True"
      ]
     },
     "execution_count": 11,
     "metadata": {},
     "output_type": "execute_result"
    }
   ],
   "source": [
    "resp.ok"
   ]
  },
  {
   "cell_type": "code",
   "execution_count": 12,
   "id": "5d900d90-0906-4a02-8608-60bc612b51a9",
   "metadata": {},
   "outputs": [
    {
     "data": {
      "text/plain": [
       "b\"I don't have personal experiences or preferences, but I can certainly share a simple and delicious mayonnaise recipe with you! Here it is:\\n\\nIngredients:\\n\\n* 1 egg yolk\\n* 1 tablespoon of mustard (Dijon is a great choice)\\n* 1 cup of vegetable oil (you can also use olive oil or a mix of both)\\n* 1-2 tablespoons of white vinegar or lemon juice\\n* Salt and pepper to taste\\n\\nInstructions:\\n\\n1. In a medium bowl, whisk together the egg yolk and mustard.\\n</s>\""
      ]
     },
     "execution_count": 12,
     "metadata": {},
     "output_type": "execute_result"
    }
   ],
   "source": [
    "resp.content"
   ]
  },
  {
   "cell_type": "code",
   "execution_count": 13,
   "id": "778e251a-8696-410f-927c-cfeb7f4d486d",
   "metadata": {},
   "outputs": [
    {
     "data": {
      "text/plain": [
       "\"I don't have personal experiences or preferences, but I can certainly share a simple and delicious mayonnaise recipe with you! Here it is:\\n\\nIngredients:\\n\\n* 1 egg yolk\\n* 1 tablespoon of mustard (Dijon is a great choice)\\n* 1 cup of vegetable oil (you can also use olive oil or a mix of both)\\n* 1-2 tablespoons of white vinegar or lemon juice\\n* Salt and pepper to taste\\n\\nInstructions:\\n\\n1. In a medium bowl, whisk together the egg yolk and mustard.\\n</s>\""
      ]
     },
     "execution_count": 13,
     "metadata": {},
     "output_type": "execute_result"
    }
   ],
   "source": [
    "resp.content.decode('utf-8')"
   ]
  },
  {
   "cell_type": "code",
   "execution_count": 14,
   "id": "2d5f9e2b-b5d0-433c-8f64-f5d0b48517cb",
   "metadata": {},
   "outputs": [],
   "source": [
    "import json"
   ]
  },
  {
   "cell_type": "code",
   "execution_count": 1,
   "id": "8a85567f-f039-46c7-b897-2d90f7dcc081",
   "metadata": {},
   "outputs": [],
   "source": [
    "import langroid as lr\n",
    "import langroid.language_models as lm\n"
   ]
  },
  {
   "cell_type": "code",
   "execution_count": 2,
   "id": "e5029e99-bb6e-49a5-883f-c573631ac718",
   "metadata": {},
   "outputs": [
    {
     "name": "stderr",
     "output_type": "stream",
     "text": [
      "\u001b[33m2024-04-16 11:57:36 - WARNING - REDIS_PASSWORD, REDIS_HOST, REDIS_PORT not set in .env file,\n",
      "                    using fake redis client\u001b[0m\n"
     ]
    },
    {
     "name": "stdout",
     "output_type": "stream",
     "text": [
      "\u001b[32m\u001b[32mThe\u001b[32m capital\u001b[32m of\u001b[32m Ontario\u001b[32m is\u001b[32m Toronto\u001b[32m."
     ]
    },
    {
     "data": {
      "text/html": [
       "<pre style=\"white-space:pre;overflow-x:auto;line-height:normal;font-family:Menlo,'DejaVu Sans Mono',consolas,'Courier New',monospace\">\n",
       "</pre>\n"
      ],
      "text/plain": [
       "\n"
      ]
     },
     "metadata": {},
     "output_type": "display_data"
    }
   ],
   "source": [
    "# set up LLM\n",
    "llm_cfg = lm.OpenAIGPTConfig( # or OpenAIAssistant to use Assistant API \n",
    "  # any model served via an OpenAI-compatible API\n",
    "  chat_model=lm.OpenAIChatModel.GPT4_TURBO, # or, e.g., \"ollama/mistral\"\n",
    ")\n",
    "# use LLM directly\n",
    "mdl = lm.OpenAIGPT(llm_cfg)\n",
    "response = mdl.chat(\"What is the capital of Ontario?\", max_tokens=10)\n"
   ]
  },
  {
   "cell_type": "code",
   "execution_count": 3,
   "id": "b740a719-c066-46e9-9d51-a777fed44a64",
   "metadata": {},
   "outputs": [
    {
     "name": "stderr",
     "output_type": "stream",
     "text": [
      "\u001b[33m2024-04-16 11:57:57 - WARNING - REDIS_PASSWORD, REDIS_HOST, REDIS_PORT not set in .env file,\n",
      "                    using fake redis client\u001b[0m\n"
     ]
    },
    {
     "data": {
      "text/html": [
       "<pre style=\"white-space:pre;overflow-x:auto;line-height:normal;font-family:Menlo,'DejaVu Sans Mono',consolas,'Courier New',monospace\"></pre>\n"
      ],
      "text/plain": []
     },
     "metadata": {},
     "output_type": "display_data"
    },
    {
     "name": "stdout",
     "output_type": "stream",
     "text": [
      "\u001b[32m\u001b[32mThe\u001b[32m capital\u001b[32m of\u001b[32m China\u001b[32m is\u001b[32m Beijing\u001b[32m."
     ]
    },
    {
     "data": {
      "text/html": [
       "<pre style=\"white-space:pre;overflow-x:auto;line-height:normal;font-family:Menlo,'DejaVu Sans Mono',consolas,'Courier New',monospace\">\n",
       "</pre>\n"
      ],
      "text/plain": [
       "\n"
      ]
     },
     "metadata": {},
     "output_type": "display_data"
    },
    {
     "data": {
      "text/html": [
       "<pre style=\"white-space:pre;overflow-x:auto;line-height:normal;font-family:Menlo,'DejaVu Sans Mono',consolas,'Courier New',monospace\"><span style=\"font-weight: bold\">Stats:</span> <span style=\"color: #800080; text-decoration-color: #800080\">N_MSG</span><span style=\"color: #800080; text-decoration-color: #800080\">=</span><span style=\"color: #800080; text-decoration-color: #800080; font-weight: bold\">2</span><span style=\"color: #800080; text-decoration-color: #800080\">, TOKENS: </span><span style=\"color: #800080; text-decoration-color: #800080\">in</span><span style=\"color: #800080; text-decoration-color: #800080\">=</span><span style=\"color: #800080; text-decoration-color: #800080; font-weight: bold\">13</span><span style=\"color: #800080; text-decoration-color: #800080\">, </span><span style=\"color: #800080; text-decoration-color: #800080\">out</span><span style=\"color: #800080; text-decoration-color: #800080\">=</span><span style=\"color: #800080; text-decoration-color: #800080; font-weight: bold\">7</span><span style=\"color: #800080; text-decoration-color: #800080\">, </span><span style=\"color: #800080; text-decoration-color: #800080\">max</span><span style=\"color: #800080; text-decoration-color: #800080\">=</span><span style=\"color: #800080; text-decoration-color: #800080; font-weight: bold\">1024</span><span style=\"color: #800080; text-decoration-color: #800080\">, </span><span style=\"color: #800080; text-decoration-color: #800080\">ctx</span><span style=\"color: #800080; text-decoration-color: #800080\">=</span><span style=\"color: #800080; text-decoration-color: #800080; font-weight: bold\">128000</span><span style=\"color: #800080; text-decoration-color: #800080\">, COST: </span><span style=\"color: #800080; text-decoration-color: #800080\">now</span><span style=\"color: #800080; text-decoration-color: #800080\">=$</span><span style=\"color: #800080; text-decoration-color: #800080; font-weight: bold\">0.0003</span><span style=\"color: #800080; text-decoration-color: #800080\">, </span><span style=\"color: #800080; text-decoration-color: #800080\">cumul</span><span style=\"color: #800080; text-decoration-color: #800080\">=$</span><span style=\"color: #800080; text-decoration-color: #800080; font-weight: bold\">0.0003</span><span style=\"color: #800080; text-decoration-color: #800080\"> </span><span style=\"color: #800080; text-decoration-color: #800080; font-weight: bold\">(gpt-</span><span style=\"color: #800080; text-decoration-color: #800080; font-weight: bold\">4</span><span style=\"color: #800080; text-decoration-color: #800080; font-weight: bold\">-turbo-preview)</span>\n",
       "</pre>\n"
      ],
      "text/plain": [
       "\u001b[1mStats:\u001b[0m \u001b[35mN_MSG\u001b[0m\u001b[35m=\u001b[0m\u001b[1;35m2\u001b[0m\u001b[35m, TOKENS: \u001b[0m\u001b[35min\u001b[0m\u001b[35m=\u001b[0m\u001b[1;35m13\u001b[0m\u001b[35m, \u001b[0m\u001b[35mout\u001b[0m\u001b[35m=\u001b[0m\u001b[1;35m7\u001b[0m\u001b[35m, \u001b[0m\u001b[35mmax\u001b[0m\u001b[35m=\u001b[0m\u001b[1;35m1024\u001b[0m\u001b[35m, \u001b[0m\u001b[35mctx\u001b[0m\u001b[35m=\u001b[0m\u001b[1;35m128000\u001b[0m\u001b[35m, COST: \u001b[0m\u001b[35mnow\u001b[0m\u001b[35m=$\u001b[0m\u001b[1;35m0.0003\u001b[0m\u001b[35m, \u001b[0m\u001b[35mcumul\u001b[0m\u001b[35m=$\u001b[0m\u001b[1;35m0.0003\u001b[0m\u001b[35m \u001b[0m\u001b[1;35m(\u001b[0m\u001b[1;35mgpt-\u001b[0m\u001b[1;35m4\u001b[0m\u001b[1;35m-turbo-preview\u001b[0m\u001b[1;35m)\u001b[0m\n"
      ]
     },
     "metadata": {},
     "output_type": "display_data"
    },
    {
     "data": {
      "text/html": [
       "<pre style=\"white-space:pre;overflow-x:auto;line-height:normal;font-family:Menlo,'DejaVu Sans Mono',consolas,'Courier New',monospace\"></pre>\n"
      ],
      "text/plain": []
     },
     "metadata": {},
     "output_type": "display_data"
    },
    {
     "name": "stdout",
     "output_type": "stream",
     "text": [
      "\u001b[32m\u001b[32mThe\u001b[32m capital\u001b[32m of\u001b[32m India\u001b[32m is\u001b[32m New\u001b[32m Delhi\u001b[32m."
     ]
    },
    {
     "data": {
      "text/html": [
       "<pre style=\"white-space:pre;overflow-x:auto;line-height:normal;font-family:Menlo,'DejaVu Sans Mono',consolas,'Courier New',monospace\">\n",
       "</pre>\n"
      ],
      "text/plain": [
       "\n"
      ]
     },
     "metadata": {},
     "output_type": "display_data"
    },
    {
     "data": {
      "text/html": [
       "<pre style=\"white-space:pre;overflow-x:auto;line-height:normal;font-family:Menlo,'DejaVu Sans Mono',consolas,'Courier New',monospace\"><span style=\"font-weight: bold\">Stats:</span> <span style=\"color: #800080; text-decoration-color: #800080\">N_MSG</span><span style=\"color: #800080; text-decoration-color: #800080\">=</span><span style=\"color: #800080; text-decoration-color: #800080; font-weight: bold\">4</span><span style=\"color: #800080; text-decoration-color: #800080\">, TOKENS: </span><span style=\"color: #800080; text-decoration-color: #800080\">in</span><span style=\"color: #800080; text-decoration-color: #800080\">=</span><span style=\"color: #800080; text-decoration-color: #800080; font-weight: bold\">23</span><span style=\"color: #800080; text-decoration-color: #800080\">, </span><span style=\"color: #800080; text-decoration-color: #800080\">out</span><span style=\"color: #800080; text-decoration-color: #800080\">=</span><span style=\"color: #800080; text-decoration-color: #800080; font-weight: bold\">8</span><span style=\"color: #800080; text-decoration-color: #800080\">, </span><span style=\"color: #800080; text-decoration-color: #800080\">max</span><span style=\"color: #800080; text-decoration-color: #800080\">=</span><span style=\"color: #800080; text-decoration-color: #800080; font-weight: bold\">1024</span><span style=\"color: #800080; text-decoration-color: #800080\">, </span><span style=\"color: #800080; text-decoration-color: #800080\">ctx</span><span style=\"color: #800080; text-decoration-color: #800080\">=</span><span style=\"color: #800080; text-decoration-color: #800080; font-weight: bold\">128000</span><span style=\"color: #800080; text-decoration-color: #800080\">, COST: </span><span style=\"color: #800080; text-decoration-color: #800080\">now</span><span style=\"color: #800080; text-decoration-color: #800080\">=$</span><span style=\"color: #800080; text-decoration-color: #800080; font-weight: bold\">0.0005</span><span style=\"color: #800080; text-decoration-color: #800080\">, </span><span style=\"color: #800080; text-decoration-color: #800080\">cumul</span><span style=\"color: #800080; text-decoration-color: #800080\">=$</span><span style=\"color: #800080; text-decoration-color: #800080; font-weight: bold\">0.0008</span><span style=\"color: #800080; text-decoration-color: #800080\"> </span><span style=\"color: #800080; text-decoration-color: #800080; font-weight: bold\">(gpt-</span><span style=\"color: #800080; text-decoration-color: #800080; font-weight: bold\">4</span><span style=\"color: #800080; text-decoration-color: #800080; font-weight: bold\">-turbo-preview)</span>\n",
       "</pre>\n"
      ],
      "text/plain": [
       "\u001b[1mStats:\u001b[0m \u001b[35mN_MSG\u001b[0m\u001b[35m=\u001b[0m\u001b[1;35m4\u001b[0m\u001b[35m, TOKENS: \u001b[0m\u001b[35min\u001b[0m\u001b[35m=\u001b[0m\u001b[1;35m23\u001b[0m\u001b[35m, \u001b[0m\u001b[35mout\u001b[0m\u001b[35m=\u001b[0m\u001b[1;35m8\u001b[0m\u001b[35m, \u001b[0m\u001b[35mmax\u001b[0m\u001b[35m=\u001b[0m\u001b[1;35m1024\u001b[0m\u001b[35m, \u001b[0m\u001b[35mctx\u001b[0m\u001b[35m=\u001b[0m\u001b[1;35m128000\u001b[0m\u001b[35m, COST: \u001b[0m\u001b[35mnow\u001b[0m\u001b[35m=$\u001b[0m\u001b[1;35m0.0005\u001b[0m\u001b[35m, \u001b[0m\u001b[35mcumul\u001b[0m\u001b[35m=$\u001b[0m\u001b[1;35m0.0008\u001b[0m\u001b[35m \u001b[0m\u001b[1;35m(\u001b[0m\u001b[1;35mgpt-\u001b[0m\u001b[1;35m4\u001b[0m\u001b[1;35m-turbo-preview\u001b[0m\u001b[1;35m)\u001b[0m\n"
      ]
     },
     "metadata": {},
     "output_type": "display_data"
    }
   ],
   "source": [
    "# use LLM in an Agent\n",
    "agent_cfg = lr.ChatAgentConfig(llm=llm_cfg)\n",
    "agent = lr.ChatAgent(agent_cfg)\n",
    "agent.llm_response(\"What is the capital of China?\") \n",
    "response = agent.llm_response(\"And India?\") # maintains conversation state "
   ]
  },
  {
   "cell_type": "code",
   "execution_count": 4,
   "id": "95723d1d-3c3e-40c1-abe2-cd8d82116a48",
   "metadata": {},
   "outputs": [
    {
     "data": {
      "text/html": [
       "<pre style=\"white-space:pre;overflow-x:auto;line-height:normal;font-family:Menlo,'DejaVu Sans Mono',consolas,'Courier New',monospace\"> <span style=\"font-weight: bold\">(</span>Bot<span style=\"font-weight: bold\">)</span> <span style=\"color: #800000; text-decoration-color: #800000\"> Entity.USER </span> <span style=\"color: #000080; text-decoration-color: #000080; font-weight: bold\">Entity.USER</span><span style=\"font-weight: bold\">(</span>          <span style=\"font-weight: bold\">)</span> <span style=\"font-weight: bold\">(</span>=&gt;          <span style=\"font-weight: bold\">)</span> <span style=\"font-weight: bold\">(</span>X           <span style=\"font-weight: bold\">)</span>       <span style=\"font-weight: bold\">(</span>          <span style=\"font-weight: bold\">)</span> <span style=\"color: #000080; text-decoration-color: #000080\">do you understand what an </span><span style=\"color: #000080; text-decoration-color: #000080\">'agentic architecture'</span><span style=\"color: #000080; text-decoration-color: #000080\"> is ?</span>\n",
       "</pre>\n"
      ],
      "text/plain": [
       " \u001b[1m(\u001b[0mBot\u001b[1m)\u001b[0m \u001b[31m Entity.USER \u001b[0m \u001b[1;34mEntity.USER\u001b[0m\u001b[1m(\u001b[0m          \u001b[1m)\u001b[0m \u001b[1m(\u001b[0m=>          \u001b[1m)\u001b[0m \u001b[1m(\u001b[0mX           \u001b[1m)\u001b[0m       \u001b[1m(\u001b[0m          \u001b[1m)\u001b[0m \u001b[34mdo you understand what an \u001b[0m\u001b[34m'agentic architecture'\u001b[0m\u001b[34m is ?\u001b[0m\n"
      ]
     },
     "metadata": {},
     "output_type": "display_data"
    },
    {
     "data": {
      "text/html": [
       "<pre style=\"white-space:pre;overflow-x:auto;line-height:normal;font-family:Menlo,'DejaVu Sans Mono',consolas,'Courier New',monospace\"><span style=\"color: #800080; text-decoration-color: #800080; font-weight: bold\">&gt;&gt;&gt; Starting Agent Bot (</span><span style=\"color: #800080; text-decoration-color: #800080; font-weight: bold\">1</span><span style=\"color: #800080; text-decoration-color: #800080; font-weight: bold\">) gpt-</span><span style=\"color: #800080; text-decoration-color: #800080; font-weight: bold\">4</span><span style=\"color: #800080; text-decoration-color: #800080; font-weight: bold\">-turbo-preview </span>\n",
       "</pre>\n"
      ],
      "text/plain": [
       "\u001b[1;35m>>> Starting Agent Bot \u001b[0m\u001b[1;35m(\u001b[0m\u001b[1;35m1\u001b[0m\u001b[1;35m)\u001b[0m\u001b[1;35m gpt-\u001b[0m\u001b[1;35m4\u001b[0m\u001b[1;35m-turbo-preview \u001b[0m\n"
      ]
     },
     "metadata": {},
     "output_type": "display_data"
    },
    {
     "data": {
      "text/html": [
       "<pre style=\"white-space:pre;overflow-x:auto;line-height:normal;font-family:Menlo,'DejaVu Sans Mono',consolas,'Courier New',monospace\"> <span style=\"font-weight: bold\">(</span>Bot<span style=\"font-weight: bold\">)</span> <span style=\"color: #800000; text-decoration-color: #800000\"> Entity.USER </span> <span style=\"color: #000080; text-decoration-color: #000080; font-weight: bold\">Entity.USER</span><span style=\"font-weight: bold\">(</span>Entity.USER<span style=\"font-weight: bold\">)</span> <span style=\"font-weight: bold\">(</span>=&gt;          <span style=\"font-weight: bold\">)</span> <span style=\"font-weight: bold\">(</span>X           <span style=\"font-weight: bold\">)</span>       <span style=\"font-weight: bold\">(</span>          <span style=\"font-weight: bold\">)</span> <span style=\"color: #000080; text-decoration-color: #000080; font-weight: bold\">[</span><span style=\"color: #000080; text-decoration-color: #000080\">CANNOT RESPOND</span><span style=\"color: #000080; text-decoration-color: #000080; font-weight: bold\">]</span>\n",
       "</pre>\n"
      ],
      "text/plain": [
       " \u001b[1m(\u001b[0mBot\u001b[1m)\u001b[0m \u001b[31m Entity.USER \u001b[0m \u001b[1;34mEntity.USER\u001b[0m\u001b[1m(\u001b[0mEntity.USER\u001b[1m)\u001b[0m \u001b[1m(\u001b[0m=>          \u001b[1m)\u001b[0m \u001b[1m(\u001b[0mX           \u001b[1m)\u001b[0m       \u001b[1m(\u001b[0m          \u001b[1m)\u001b[0m \u001b[1;34m[\u001b[0m\u001b[34mCANNOT RESPOND\u001b[0m\u001b[1;34m]\u001b[0m\n"
      ]
     },
     "metadata": {},
     "output_type": "display_data"
    },
    {
     "data": {
      "text/html": [
       "<pre style=\"white-space:pre;overflow-x:auto;line-height:normal;font-family:Menlo,'DejaVu Sans Mono',consolas,'Courier New',monospace\"> <span style=\"font-weight: bold\">(</span>Bot<span style=\"font-weight: bold\">)</span> <span style=\"color: #800000; text-decoration-color: #800000\"> Entity.AGENT </span>\n",
       "</pre>\n"
      ],
      "text/plain": [
       " \u001b[1m(\u001b[0mBot\u001b[1m)\u001b[0m \u001b[31m Entity.AGENT \u001b[0m\n"
      ]
     },
     "metadata": {},
     "output_type": "display_data"
    },
    {
     "data": {
      "text/html": [
       "<pre style=\"white-space:pre;overflow-x:auto;line-height:normal;font-family:Menlo,'DejaVu Sans Mono',consolas,'Courier New',monospace\"></pre>\n"
      ],
      "text/plain": []
     },
     "metadata": {},
     "output_type": "display_data"
    },
    {
     "name": "stdout",
     "output_type": "stream",
     "text": [
      "\u001b[32m\u001b[32m\"\u001b[32mAg\u001b[32mentic\u001b[32m architecture\u001b[32m\"\u001b[32m refers\u001b[32m to\u001b[32m a\u001b[32m design\u001b[32m philosophy\u001b[32m or\u001b[32m approach\u001b[32m in\u001b[32m architecture\u001b[32m that\u001b[32m emphasizes\u001b[32m buildings\u001b[32m or\u001b[32m environments\u001b[32m that\u001b[32m actively\u001b[32m engage\u001b[32m with\u001b[32m their\u001b[32m users\u001b[32m or\u001b[32m inhabitants\u001b[32m.\u001b[32m This\u001b[32m concept\u001b[32m is\u001b[32m rooted\u001b[32m in\u001b[32m the\u001b[32m idea\u001b[32m of\u001b[32m agency\u001b[32m,\u001b[32m which\u001b[32m in\u001b[32m this\u001b[32m context\u001b[32m means\u001b[32m the\u001b[32m capacity\u001b[32m of\u001b[32m individuals\u001b[32m to\u001b[32m act\u001b[32m independently\u001b[32m and\u001b[32m make\u001b[32m their\u001b[32m own\u001b[32m free\u001b[32m choices\u001b[32m.\u001b[32m Ag\u001b[32mentic\u001b[32m architecture\u001b[32m,\u001b[32m therefore\u001b[32m,\u001b[32m involves\u001b[32m creating\u001b[32m spaces\u001b[32m that\u001b[32m not\u001b[32m only\u001b[32m respond\u001b[32m to\u001b[32m the\u001b[32m needs\u001b[32m and\u001b[32m actions\u001b[32m of\u001b[32m those\u001b[32m who\u001b[32m use\u001b[32m them\u001b[32m but\u001b[32m also\u001b[32m encourage\u001b[32m interaction\u001b[32m,\u001b[32m adaptation\u001b[32m,\u001b[32m and\u001b[32m participation\u001b[32m.\n",
      "\n",
      "\u001b[32mIn\u001b[32m practical\u001b[32m terms\u001b[32m,\u001b[32m ag\u001b[32mentic\u001b[32m architecture\u001b[32m might\u001b[32m incorporate\u001b[32m elements\u001b[32m that\u001b[32m are\u001b[32m customizable\u001b[32m or\u001b[32m adaptable\u001b[32m by\u001b[32m the\u001b[32m users\u001b[32m,\u001b[32m use\u001b[32m smart\u001b[32m technologies\u001b[32m to\u001b[32m respond\u001b[32m dynamically\u001b[32m to\u001b[32m environmental\u001b[32m conditions\u001b[32m or\u001b[32m the\u001b[32m needs\u001b[32m of\u001b[32m inhabitants\u001b[32m,\u001b[32m or\u001b[32m foster\u001b[32m a\u001b[32m sense\u001b[32m of\u001b[32m community\u001b[32m and\u001b[32m interaction\u001b[32m among\u001b[32m users\u001b[32m.\u001b[32m The\u001b[32m goal\u001b[32m is\u001b[32m to\u001b[32m create\u001b[32m environments\u001b[32m that\u001b[32m are\u001b[32m not\u001b[32m just\u001b[32m passive\u001b[32m settings\u001b[32m but\u001b[32m active\u001b[32m participants\u001b[32m in\u001b[32m the\u001b[32m lives\u001b[32m of\u001b[32m those\u001b[32m who\u001b[32m inhabit\u001b[32m them\u001b[32m,\u001b[32m enhancing\u001b[32m their\u001b[32m well\u001b[32m-being\u001b[32m,\u001b[32m productivity\u001b[32m,\u001b[32m and\u001b[32m social\u001b[32m interactions\u001b[32m.\n",
      "\n",
      "\u001b[32mThis\u001b[32m approach\u001b[32m contrasts\u001b[32m with\u001b[32m more\u001b[32m traditional\u001b[32m views\u001b[32m of\u001b[32m architecture\u001b[32m as\u001b[32m primarily\u001b[32m concerned\u001b[32m with\u001b[32m aesthetics\u001b[32m,\u001b[32m structural\u001b[32m integrity\u001b[32m,\u001b[32m and\u001b[32m functionality\u001b[32m in\u001b[32m a\u001b[32m more\u001b[32m static\u001b[32m sense\u001b[32m.\u001b[32m Ag\u001b[32mentic\u001b[32m architecture\u001b[32m is\u001b[32m part\u001b[32m of\u001b[32m a\u001b[32m broader\u001b[32m movement\u001b[32m towards\u001b[32m more\u001b[32m user\u001b[32m-centered\u001b[32m,\u001b[32m interactive\u001b[32m,\u001b[32m and\u001b[32m responsive\u001b[32m designs\u001b[32m in\u001b[32m the\u001b[32m built\u001b[32m environment\u001b[32m."
     ]
    },
    {
     "data": {
      "text/html": [
       "<pre style=\"white-space:pre;overflow-x:auto;line-height:normal;font-family:Menlo,'DejaVu Sans Mono',consolas,'Courier New',monospace\">\n",
       "</pre>\n"
      ],
      "text/plain": [
       "\n"
      ]
     },
     "metadata": {},
     "output_type": "display_data"
    },
    {
     "data": {
      "text/html": [
       "<pre style=\"white-space:pre;overflow-x:auto;line-height:normal;font-family:Menlo,'DejaVu Sans Mono',consolas,'Courier New',monospace\"><span style=\"font-weight: bold\">Stats:</span> <span style=\"color: #800080; text-decoration-color: #800080\">N_MSG</span><span style=\"color: #800080; text-decoration-color: #800080\">=</span><span style=\"color: #800080; text-decoration-color: #800080; font-weight: bold\">2</span><span style=\"color: #800080; text-decoration-color: #800080\">, TOKENS: </span><span style=\"color: #800080; text-decoration-color: #800080\">in</span><span style=\"color: #800080; text-decoration-color: #800080\">=</span><span style=\"color: #800080; text-decoration-color: #800080; font-weight: bold\">17</span><span style=\"color: #800080; text-decoration-color: #800080\">, </span><span style=\"color: #800080; text-decoration-color: #800080\">out</span><span style=\"color: #800080; text-decoration-color: #800080\">=</span><span style=\"color: #800080; text-decoration-color: #800080; font-weight: bold\">220</span><span style=\"color: #800080; text-decoration-color: #800080\">, </span><span style=\"color: #800080; text-decoration-color: #800080\">max</span><span style=\"color: #800080; text-decoration-color: #800080\">=</span><span style=\"color: #800080; text-decoration-color: #800080; font-weight: bold\">1024</span><span style=\"color: #800080; text-decoration-color: #800080\">, </span><span style=\"color: #800080; text-decoration-color: #800080\">ctx</span><span style=\"color: #800080; text-decoration-color: #800080\">=</span><span style=\"color: #800080; text-decoration-color: #800080; font-weight: bold\">128000</span><span style=\"color: #800080; text-decoration-color: #800080\">, COST: </span><span style=\"color: #800080; text-decoration-color: #800080\">now</span><span style=\"color: #800080; text-decoration-color: #800080\">=$</span><span style=\"color: #800080; text-decoration-color: #800080; font-weight: bold\">0.0068</span><span style=\"color: #800080; text-decoration-color: #800080\">, </span><span style=\"color: #800080; text-decoration-color: #800080\">cumul</span><span style=\"color: #800080; text-decoration-color: #800080\">=$</span><span style=\"color: #800080; text-decoration-color: #800080; font-weight: bold\">0.0076</span><span style=\"color: #800080; text-decoration-color: #800080\"> </span>\n",
       "<span style=\"color: #800080; text-decoration-color: #800080; font-weight: bold\">(gpt-</span><span style=\"color: #800080; text-decoration-color: #800080; font-weight: bold\">4</span><span style=\"color: #800080; text-decoration-color: #800080; font-weight: bold\">-turbo-preview)</span>\n",
       "</pre>\n"
      ],
      "text/plain": [
       "\u001b[1mStats:\u001b[0m \u001b[35mN_MSG\u001b[0m\u001b[35m=\u001b[0m\u001b[1;35m2\u001b[0m\u001b[35m, TOKENS: \u001b[0m\u001b[35min\u001b[0m\u001b[35m=\u001b[0m\u001b[1;35m17\u001b[0m\u001b[35m, \u001b[0m\u001b[35mout\u001b[0m\u001b[35m=\u001b[0m\u001b[1;35m220\u001b[0m\u001b[35m, \u001b[0m\u001b[35mmax\u001b[0m\u001b[35m=\u001b[0m\u001b[1;35m1024\u001b[0m\u001b[35m, \u001b[0m\u001b[35mctx\u001b[0m\u001b[35m=\u001b[0m\u001b[1;35m128000\u001b[0m\u001b[35m, COST: \u001b[0m\u001b[35mnow\u001b[0m\u001b[35m=$\u001b[0m\u001b[1;35m0.0068\u001b[0m\u001b[35m, \u001b[0m\u001b[35mcumul\u001b[0m\u001b[35m=$\u001b[0m\u001b[1;35m0.0076\u001b[0m\u001b[35m \u001b[0m\n",
       "\u001b[1;35m(\u001b[0m\u001b[1;35mgpt-\u001b[0m\u001b[1;35m4\u001b[0m\u001b[1;35m-turbo-preview\u001b[0m\u001b[1;35m)\u001b[0m\n"
      ]
     },
     "metadata": {},
     "output_type": "display_data"
    },
    {
     "data": {
      "text/html": [
       "<pre style=\"white-space:pre;overflow-x:auto;line-height:normal;font-family:Menlo,'DejaVu Sans Mono',consolas,'Courier New',monospace\">*<span style=\"font-weight: bold\">(</span>Bot<span style=\"font-weight: bold\">)</span> <span style=\"color: #c0c0c0; text-decoration-color: #c0c0c0\"> Entity.LLM </span> <span style=\"color: #008000; text-decoration-color: #008000; font-weight: bold\">Entity.LLM</span><span style=\"font-weight: bold\">(</span>          <span style=\"font-weight: bold\">)</span> <span style=\"font-weight: bold\">(</span>=&gt;          <span style=\"font-weight: bold\">)</span> <span style=\"font-weight: bold\">(</span>X           <span style=\"font-weight: bold\">)</span>       <span style=\"font-weight: bold\">(</span>          <span style=\"font-weight: bold\">)</span> <span style=\"color: #008000; text-decoration-color: #008000\">\"Agentic architecture\"</span><span style=\"color: #008000; text-decoration-color: #008000\"> refers to a design philosophy or approach in architecture that emphasizes buildings </span>\n",
       "<span style=\"color: #008000; text-decoration-color: #008000\">or environments that actively engage with their users or inhabitants. This concept is rooted in the idea of agency, which in this context means the capacity of individuals to act independently and </span>\n",
       "<span style=\"color: #008000; text-decoration-color: #008000\">make their own free choices. Agentic architecture, therefore, involves creating spaces that not only respond to the needs and actions of those who use them but also encourage interaction, adaptation, </span>\n",
       "<span style=\"color: #008000; text-decoration-color: #008000\">and participation.</span>\n",
       "\n",
       "<span style=\"color: #008000; text-decoration-color: #008000\">In practical terms, agentic architecture might incorporate elements that are customizable or adaptable by the users, use smart technologies to respond dynamically to environmental conditions or the </span>\n",
       "<span style=\"color: #008000; text-decoration-color: #008000\">needs of inhabitants, or foster a sense of community and interaction among users. The goal is to create environments that are not just passive settings but active participants in the lives of those </span>\n",
       "<span style=\"color: #008000; text-decoration-color: #008000\">who inhabit them, enhancing their well-being, productivity, and social interactions.</span>\n",
       "\n",
       "<span style=\"color: #008000; text-decoration-color: #008000\">This approach contrasts with more traditional views of architecture as primarily concerned with aesthetics, structural integrity, and functionality in a more static sense. Agentic architecture is part</span>\n",
       "<span style=\"color: #008000; text-decoration-color: #008000\">of a broader movement towards more user-centered, interactive, and responsive designs in the built environment.</span>\n",
       "</pre>\n"
      ],
      "text/plain": [
       "*\u001b[1m(\u001b[0mBot\u001b[1m)\u001b[0m \u001b[37m Entity.LLM \u001b[0m \u001b[1;32mEntity.LLM\u001b[0m\u001b[1m(\u001b[0m          \u001b[1m)\u001b[0m \u001b[1m(\u001b[0m=>          \u001b[1m)\u001b[0m \u001b[1m(\u001b[0mX           \u001b[1m)\u001b[0m       \u001b[1m(\u001b[0m          \u001b[1m)\u001b[0m \u001b[32m\"Agentic architecture\"\u001b[0m\u001b[32m refers to a design philosophy or approach in architecture that emphasizes buildings \u001b[0m\n",
       "\u001b[32mor environments that actively engage with their users or inhabitants. This concept is rooted in the idea of agency, which in this context means the capacity of individuals to act independently and \u001b[0m\n",
       "\u001b[32mmake their own free choices. Agentic architecture, therefore, involves creating spaces that not only respond to the needs and actions of those who use them but also encourage interaction, adaptation, \u001b[0m\n",
       "\u001b[32mand participation.\u001b[0m\n",
       "\n",
       "\u001b[32mIn practical terms, agentic architecture might incorporate elements that are customizable or adaptable by the users, use smart technologies to respond dynamically to environmental conditions or the \u001b[0m\n",
       "\u001b[32mneeds of inhabitants, or foster a sense of community and interaction among users. The goal is to create environments that are not just passive settings but active participants in the lives of those \u001b[0m\n",
       "\u001b[32mwho inhabit them, enhancing their well-being, productivity, and social interactions.\u001b[0m\n",
       "\n",
       "\u001b[32mThis approach contrasts with more traditional views of architecture as primarily concerned with aesthetics, structural integrity, and functionality in a more static sense. Agentic architecture is part\u001b[0m\n",
       "\u001b[32mof a broader movement towards more user-centered, interactive, and responsive designs in the built environment.\u001b[0m\n"
      ]
     },
     "metadata": {},
     "output_type": "display_data"
    },
    {
     "data": {
      "text/html": [
       "<pre style=\"white-space:pre;overflow-x:auto;line-height:normal;font-family:Menlo,'DejaVu Sans Mono',consolas,'Courier New',monospace\"><span style=\"color: #000080; text-decoration-color: #000080\">Human (respond or q, x to exit current level, or hit enter to continue)</span>\n",
       ": </pre>\n"
      ],
      "text/plain": [
       "\u001b[34mHuman (respond or q, x to exit current level, or hit enter to continue)\u001b[0m\n",
       ": "
      ]
     },
     "metadata": {},
     "output_type": "display_data"
    },
    {
     "name": "stdin",
     "output_type": "stream",
     "text": [
      " \n"
     ]
    },
    {
     "data": {
      "text/html": [
       "<pre style=\"white-space:pre;overflow-x:auto;line-height:normal;font-family:Menlo,'DejaVu Sans Mono',consolas,'Courier New',monospace\"> <span style=\"font-weight: bold\">(</span>Bot<span style=\"font-weight: bold\">)</span> <span style=\"color: #800000; text-decoration-color: #800000\"> Entity.USER </span>\n",
       "</pre>\n"
      ],
      "text/plain": [
       " \u001b[1m(\u001b[0mBot\u001b[1m)\u001b[0m \u001b[31m Entity.USER \u001b[0m\n"
      ]
     },
     "metadata": {},
     "output_type": "display_data"
    },
    {
     "data": {
      "text/html": [
       "<pre style=\"white-space:pre;overflow-x:auto;line-height:normal;font-family:Menlo,'DejaVu Sans Mono',consolas,'Courier New',monospace\"> <span style=\"font-weight: bold\">(</span>Bot<span style=\"font-weight: bold\">)</span> <span style=\"color: #800000; text-decoration-color: #800000\"> Entity.AGENT </span>\n",
       "</pre>\n"
      ],
      "text/plain": [
       " \u001b[1m(\u001b[0mBot\u001b[1m)\u001b[0m \u001b[31m Entity.AGENT \u001b[0m\n"
      ]
     },
     "metadata": {},
     "output_type": "display_data"
    },
    {
     "data": {
      "text/html": [
       "<pre style=\"white-space:pre;overflow-x:auto;line-height:normal;font-family:Menlo,'DejaVu Sans Mono',consolas,'Courier New',monospace\"> <span style=\"font-weight: bold\">(</span>Bot<span style=\"font-weight: bold\">)</span> <span style=\"color: #800000; text-decoration-color: #800000\"> Entity.LLM </span> <span style=\"color: #008000; text-decoration-color: #008000; font-weight: bold\">Entity.LLM</span><span style=\"font-weight: bold\">(</span>Entity.LLM<span style=\"font-weight: bold\">)</span> <span style=\"font-weight: bold\">(</span>=&gt;          <span style=\"font-weight: bold\">)</span> <span style=\"font-weight: bold\">(</span>X           <span style=\"font-weight: bold\">)</span>       <span style=\"font-weight: bold\">(</span>          <span style=\"font-weight: bold\">)</span> <span style=\"color: #008000; text-decoration-color: #008000; font-weight: bold\">[</span><span style=\"color: #008000; text-decoration-color: #008000\">CANNOT RESPOND</span><span style=\"color: #008000; text-decoration-color: #008000; font-weight: bold\">]</span>\n",
       "</pre>\n"
      ],
      "text/plain": [
       " \u001b[1m(\u001b[0mBot\u001b[1m)\u001b[0m \u001b[31m Entity.LLM \u001b[0m \u001b[1;32mEntity.LLM\u001b[0m\u001b[1m(\u001b[0mEntity.LLM\u001b[1m)\u001b[0m \u001b[1m(\u001b[0m=>          \u001b[1m)\u001b[0m \u001b[1m(\u001b[0mX           \u001b[1m)\u001b[0m       \u001b[1m(\u001b[0m          \u001b[1m)\u001b[0m \u001b[1;32m[\u001b[0m\u001b[32mCANNOT RESPOND\u001b[0m\u001b[1;32m]\u001b[0m\n"
      ]
     },
     "metadata": {},
     "output_type": "display_data"
    },
    {
     "data": {
      "text/html": [
       "<pre style=\"white-space:pre;overflow-x:auto;line-height:normal;font-family:Menlo,'DejaVu Sans Mono',consolas,'Courier New',monospace\">*<span style=\"font-weight: bold\">(</span>Bot<span style=\"font-weight: bold\">)</span> <span style=\"color: #c0c0c0; text-decoration-color: #c0c0c0\"> Entity.USER </span> <span style=\"color: #000080; text-decoration-color: #000080; font-weight: bold\">Entity.USER</span><span style=\"font-weight: bold\">(</span>          <span style=\"font-weight: bold\">)</span> <span style=\"font-weight: bold\">(</span>=&gt;          <span style=\"font-weight: bold\">)</span> <span style=\"font-weight: bold\">(</span>X           <span style=\"font-weight: bold\">)</span>       <span style=\"font-weight: bold\">(</span>          <span style=\"font-weight: bold\">)</span> <span style=\"color: #000080; text-decoration-color: #000080\">DO-NOT-KNOW</span>\n",
       "</pre>\n"
      ],
      "text/plain": [
       "*\u001b[1m(\u001b[0mBot\u001b[1m)\u001b[0m \u001b[37m Entity.USER \u001b[0m \u001b[1;34mEntity.USER\u001b[0m\u001b[1m(\u001b[0m          \u001b[1m)\u001b[0m \u001b[1m(\u001b[0m=>          \u001b[1m)\u001b[0m \u001b[1m(\u001b[0mX           \u001b[1m)\u001b[0m       \u001b[1m(\u001b[0m          \u001b[1m)\u001b[0m \u001b[34mDO-NOT-KNOW\u001b[0m\n"
      ]
     },
     "metadata": {},
     "output_type": "display_data"
    },
    {
     "data": {
      "text/html": [
       "<pre style=\"white-space:pre;overflow-x:auto;line-height:normal;font-family:Menlo,'DejaVu Sans Mono',consolas,'Courier New',monospace\"> <span style=\"font-weight: bold\">(</span>Bot<span style=\"font-weight: bold\">)</span> <span style=\"color: #800000; text-decoration-color: #800000\"> Entity.USER </span> <span style=\"color: #000080; text-decoration-color: #000080; font-weight: bold\">Entity.USER</span><span style=\"font-weight: bold\">(</span>Entity.USER<span style=\"font-weight: bold\">)</span> <span style=\"font-weight: bold\">(</span>=&gt;          <span style=\"font-weight: bold\">)</span> <span style=\"font-weight: bold\">(</span>X           <span style=\"font-weight: bold\">)</span>       <span style=\"font-weight: bold\">(</span>          <span style=\"font-weight: bold\">)</span> <span style=\"color: #000080; text-decoration-color: #000080; font-weight: bold\">[</span><span style=\"color: #000080; text-decoration-color: #000080\">CANNOT RESPOND</span><span style=\"color: #000080; text-decoration-color: #000080; font-weight: bold\">]</span>\n",
       "</pre>\n"
      ],
      "text/plain": [
       " \u001b[1m(\u001b[0mBot\u001b[1m)\u001b[0m \u001b[31m Entity.USER \u001b[0m \u001b[1;34mEntity.USER\u001b[0m\u001b[1m(\u001b[0mEntity.USER\u001b[1m)\u001b[0m \u001b[1m(\u001b[0m=>          \u001b[1m)\u001b[0m \u001b[1m(\u001b[0mX           \u001b[1m)\u001b[0m       \u001b[1m(\u001b[0m          \u001b[1m)\u001b[0m \u001b[1;34m[\u001b[0m\u001b[34mCANNOT RESPOND\u001b[0m\u001b[1;34m]\u001b[0m\n"
      ]
     },
     "metadata": {},
     "output_type": "display_data"
    },
    {
     "data": {
      "text/html": [
       "<pre style=\"white-space:pre;overflow-x:auto;line-height:normal;font-family:Menlo,'DejaVu Sans Mono',consolas,'Courier New',monospace\"> <span style=\"font-weight: bold\">(</span>Bot<span style=\"font-weight: bold\">)</span> <span style=\"color: #800000; text-decoration-color: #800000\"> Entity.AGENT </span>\n",
       "</pre>\n"
      ],
      "text/plain": [
       " \u001b[1m(\u001b[0mBot\u001b[1m)\u001b[0m \u001b[31m Entity.AGENT \u001b[0m\n"
      ]
     },
     "metadata": {},
     "output_type": "display_data"
    },
    {
     "data": {
      "text/html": [
       "<pre style=\"white-space:pre;overflow-x:auto;line-height:normal;font-family:Menlo,'DejaVu Sans Mono',consolas,'Courier New',monospace\"></pre>\n"
      ],
      "text/plain": []
     },
     "metadata": {},
     "output_type": "display_data"
    },
    {
     "name": "stdout",
     "output_type": "stream",
     "text": [
      "\u001b[32m\u001b[32mIf\u001b[32m you\u001b[32m're\u001b[32m indicating\u001b[32m that\u001b[32m the\u001b[32m term\u001b[32m \"\u001b[32mag\u001b[32mentic\u001b[32m architecture\u001b[32m\"\u001b[32m is\u001b[32m unfamiliar\u001b[32m or\u001b[32m not\u001b[32m widely\u001b[32m recognized\u001b[32m in\u001b[32m the\u001b[32m field\u001b[32m of\u001b[32m architecture\u001b[32m,\u001b[32m it\u001b[32m's\u001b[32m possible\u001b[32m that\u001b[32m the\u001b[32m term\u001b[32m might\u001b[32m be\u001b[32m either\u001b[32m very\u001b[32m niche\u001b[32m,\u001b[32m emerging\u001b[32m,\u001b[32m or\u001b[32m perhaps\u001b[32m used\u001b[32m in\u001b[32m a\u001b[32m specific\u001b[32m context\u001b[32m not\u001b[32m broadly\u001b[32m covered\u001b[32m in\u001b[32m mainstream\u001b[32m architectural\u001b[32m discussions\u001b[32m.\u001b[32m The\u001b[32m concept\u001b[32m as\u001b[32m described\u001b[32m,\u001b[32m focusing\u001b[32m on\u001b[32m user\u001b[32m interaction\u001b[32m,\u001b[32m adapt\u001b[32mability\u001b[32m,\u001b[32m and\u001b[32m the\u001b[32m active\u001b[32m role\u001b[32m of\u001b[32m architecture\u001b[32m in\u001b[32m influencing\u001b[32m or\u001b[32m responding\u001b[32m to\u001b[32m its\u001b[32m users\u001b[32m,\u001b[32m align\u001b[32ms\u001b[32m with\u001b[32m several\u001b[32m contemporary\u001b[32m architectural\u001b[32m and\u001b[32m design\u001b[32m trends\u001b[32m.\u001b[32m However\u001b[32m,\u001b[32m the\u001b[32m specific\u001b[32m term\u001b[32m \"\u001b[32mag\u001b[32mentic\u001b[32m architecture\u001b[32m\"\u001b[32m might\u001b[32m not\u001b[32m be\u001b[32m widely\u001b[32m established\u001b[32m or\u001b[32m could\u001b[32m be\u001b[32m used\u001b[32m within\u001b[32m a\u001b[32m particular\u001b[32m theoretical\u001b[32m or\u001b[32m research\u001b[32m framework\u001b[32m rather\u001b[32m than\u001b[32m being\u001b[32m a\u001b[32m common\u001b[32m term\u001b[32m in\u001b[32m the\u001b[32m industry\u001b[32m.\n",
      "\n",
      "\u001b[32mIn\u001b[32m architecture\u001b[32m and\u001b[32m design\u001b[32m,\u001b[32m the\u001b[32m exploration\u001b[32m of\u001b[32m how\u001b[32m spaces\u001b[32m can\u001b[32m dynamically\u001b[32m engage\u001b[32m with\u001b[32m and\u001b[32m adapt\u001b[32m to\u001b[32m users\u001b[32m is\u001b[32m ongoing\u001b[32m,\u001b[32m with\u001b[32m terms\u001b[32m like\u001b[32m \"\u001b[32minteractive\u001b[32m architecture\u001b[32m,\"\u001b[32m \"\u001b[32mresponsive\u001b[32m architecture\u001b[32m,\"\u001b[32m and\u001b[32m \"\u001b[32madaptive\u001b[32m architecture\u001b[32m\"\u001b[32m being\u001b[32m more\u001b[32m commonly\u001b[32m used\u001b[32m to\u001b[32m describe\u001b[32m such\u001b[32m approaches\u001b[32m.\u001b[32m These\u001b[32m concepts\u001b[32m focus\u001b[32m on\u001b[32m creating\u001b[32m environments\u001b[32m that\u001b[32m can\u001b[32m change\u001b[32m in\u001b[32m response\u001b[32m to\u001b[32m user\u001b[32m needs\u001b[32m,\u001b[32m environmental\u001b[32m conditions\u001b[32m,\u001b[32m or\u001b[32m technological\u001b[32m inputs\u001b[32m,\u001b[32m aiming\u001b[32m to\u001b[32m create\u001b[32m more\u001b[32m liv\u001b[32mable\u001b[32m,\u001b[32m sustainable\u001b[32m,\u001b[32m and\u001b[32m engaging\u001b[32m spaces\u001b[32m.\n",
      "\n",
      "\u001b[32mIf\u001b[32m \"\u001b[32mag\u001b[32mentic\u001b[32m architecture\u001b[32m\"\u001b[32m is\u001b[32m a\u001b[32m term\u001b[32m from\u001b[32m a\u001b[32m specific\u001b[32m source\u001b[32m,\u001b[32m study\u001b[32m,\u001b[32m or\u001b[32m theoretical\u001b[32m framework\u001b[32m,\u001b[32m it\u001b[32m might\u001b[32m be\u001b[32m helpful\u001b[32m to\u001b[32m consult\u001b[32m that\u001b[32m context\u001b[32m directly\u001b[32m for\u001b[32m a\u001b[32m precise\u001b[32m definition\u001b[32m or\u001b[32m to\u001b[32m understand\u001b[32m how\u001b[32m it\u001b[32m's\u001b[32m being\u001b[32m applied\u001b[32m within\u001b[32m a\u001b[32m particular\u001b[32m discourse\u001b[32m."
     ]
    },
    {
     "data": {
      "text/html": [
       "<pre style=\"white-space:pre;overflow-x:auto;line-height:normal;font-family:Menlo,'DejaVu Sans Mono',consolas,'Courier New',monospace\">\n",
       "</pre>\n"
      ],
      "text/plain": [
       "\n"
      ]
     },
     "metadata": {},
     "output_type": "display_data"
    },
    {
     "data": {
      "text/html": [
       "<pre style=\"white-space:pre;overflow-x:auto;line-height:normal;font-family:Menlo,'DejaVu Sans Mono',consolas,'Courier New',monospace\"><span style=\"font-weight: bold\">Stats:</span> <span style=\"color: #800080; text-decoration-color: #800080\">N_MSG</span><span style=\"color: #800080; text-decoration-color: #800080\">=</span><span style=\"color: #800080; text-decoration-color: #800080; font-weight: bold\">4</span><span style=\"color: #800080; text-decoration-color: #800080\">, TOKENS: </span><span style=\"color: #800080; text-decoration-color: #800080\">in</span><span style=\"color: #800080; text-decoration-color: #800080\">=</span><span style=\"color: #800080; text-decoration-color: #800080; font-weight: bold\">242</span><span style=\"color: #800080; text-decoration-color: #800080\">, </span><span style=\"color: #800080; text-decoration-color: #800080\">out</span><span style=\"color: #800080; text-decoration-color: #800080\">=</span><span style=\"color: #800080; text-decoration-color: #800080; font-weight: bold\">253</span><span style=\"color: #800080; text-decoration-color: #800080\">, </span><span style=\"color: #800080; text-decoration-color: #800080\">max</span><span style=\"color: #800080; text-decoration-color: #800080\">=</span><span style=\"color: #800080; text-decoration-color: #800080; font-weight: bold\">1024</span><span style=\"color: #800080; text-decoration-color: #800080\">, </span><span style=\"color: #800080; text-decoration-color: #800080\">ctx</span><span style=\"color: #800080; text-decoration-color: #800080\">=</span><span style=\"color: #800080; text-decoration-color: #800080; font-weight: bold\">128000</span><span style=\"color: #800080; text-decoration-color: #800080\">, COST: </span><span style=\"color: #800080; text-decoration-color: #800080\">now</span><span style=\"color: #800080; text-decoration-color: #800080\">=$</span><span style=\"color: #800080; text-decoration-color: #800080; font-weight: bold\">0.0100</span><span style=\"color: #800080; text-decoration-color: #800080\">, </span><span style=\"color: #800080; text-decoration-color: #800080\">cumul</span><span style=\"color: #800080; text-decoration-color: #800080\">=$</span><span style=\"color: #800080; text-decoration-color: #800080; font-weight: bold\">0.0176</span><span style=\"color: #800080; text-decoration-color: #800080\"> </span>\n",
       "<span style=\"color: #800080; text-decoration-color: #800080; font-weight: bold\">(gpt-</span><span style=\"color: #800080; text-decoration-color: #800080; font-weight: bold\">4</span><span style=\"color: #800080; text-decoration-color: #800080; font-weight: bold\">-turbo-preview)</span>\n",
       "</pre>\n"
      ],
      "text/plain": [
       "\u001b[1mStats:\u001b[0m \u001b[35mN_MSG\u001b[0m\u001b[35m=\u001b[0m\u001b[1;35m4\u001b[0m\u001b[35m, TOKENS: \u001b[0m\u001b[35min\u001b[0m\u001b[35m=\u001b[0m\u001b[1;35m242\u001b[0m\u001b[35m, \u001b[0m\u001b[35mout\u001b[0m\u001b[35m=\u001b[0m\u001b[1;35m253\u001b[0m\u001b[35m, \u001b[0m\u001b[35mmax\u001b[0m\u001b[35m=\u001b[0m\u001b[1;35m1024\u001b[0m\u001b[35m, \u001b[0m\u001b[35mctx\u001b[0m\u001b[35m=\u001b[0m\u001b[1;35m128000\u001b[0m\u001b[35m, COST: \u001b[0m\u001b[35mnow\u001b[0m\u001b[35m=$\u001b[0m\u001b[1;35m0.0100\u001b[0m\u001b[35m, \u001b[0m\u001b[35mcumul\u001b[0m\u001b[35m=$\u001b[0m\u001b[1;35m0.0176\u001b[0m\u001b[35m \u001b[0m\n",
       "\u001b[1;35m(\u001b[0m\u001b[1;35mgpt-\u001b[0m\u001b[1;35m4\u001b[0m\u001b[1;35m-turbo-preview\u001b[0m\u001b[1;35m)\u001b[0m\n"
      ]
     },
     "metadata": {},
     "output_type": "display_data"
    },
    {
     "data": {
      "text/html": [
       "<pre style=\"white-space:pre;overflow-x:auto;line-height:normal;font-family:Menlo,'DejaVu Sans Mono',consolas,'Courier New',monospace\">*<span style=\"font-weight: bold\">(</span>Bot<span style=\"font-weight: bold\">)</span> <span style=\"color: #c0c0c0; text-decoration-color: #c0c0c0\"> Entity.LLM </span> <span style=\"color: #008000; text-decoration-color: #008000; font-weight: bold\">Entity.LLM</span><span style=\"font-weight: bold\">(</span>          <span style=\"font-weight: bold\">)</span> <span style=\"font-weight: bold\">(</span>=&gt;          <span style=\"font-weight: bold\">)</span> <span style=\"font-weight: bold\">(</span>X           <span style=\"font-weight: bold\">)</span>       <span style=\"font-weight: bold\">(</span>          <span style=\"font-weight: bold\">)</span> <span style=\"color: #008000; text-decoration-color: #008000\">If you're indicating that the term </span><span style=\"color: #008000; text-decoration-color: #008000\">\"agentic architecture\"</span><span style=\"color: #008000; text-decoration-color: #008000\"> is unfamiliar or not widely recognized in the </span>\n",
       "<span style=\"color: #008000; text-decoration-color: #008000\">field of architecture, it's possible that the term might be either very niche, emerging, or perhaps used in a specific context not broadly covered in mainstream architectural discussions. The concept </span>\n",
       "<span style=\"color: #008000; text-decoration-color: #008000\">as described, focusing on user interaction, adaptability, and the active role of architecture in influencing or responding to its users, aligns with several contemporary architectural and design </span>\n",
       "<span style=\"color: #008000; text-decoration-color: #008000\">trends. However, the specific term </span><span style=\"color: #008000; text-decoration-color: #008000\">\"agentic architecture\"</span><span style=\"color: #008000; text-decoration-color: #008000\"> might not be widely established or could be used within a particular theoretical or research framework rather than being a common term in the </span>\n",
       "<span style=\"color: #008000; text-decoration-color: #008000\">industry.</span>\n",
       "\n",
       "<span style=\"color: #008000; text-decoration-color: #008000\">In architecture and design, the exploration of how spaces can dynamically engage with and adapt to users is ongoing, with terms like </span><span style=\"color: #008000; text-decoration-color: #008000\">\"interactive architecture,\"</span><span style=\"color: #008000; text-decoration-color: #008000\"> </span><span style=\"color: #008000; text-decoration-color: #008000\">\"responsive architecture,\"</span><span style=\"color: #008000; text-decoration-color: #008000\"> and </span>\n",
       "<span style=\"color: #008000; text-decoration-color: #008000\">\"adaptive architecture\"</span><span style=\"color: #008000; text-decoration-color: #008000\"> being more commonly used to describe such approaches. These concepts focus on creating environments that can change in response to user needs, environmental conditions, or </span>\n",
       "<span style=\"color: #008000; text-decoration-color: #008000\">technological inputs, aiming to create more livable, sustainable, and engaging spaces.</span>\n",
       "\n",
       "<span style=\"color: #008000; text-decoration-color: #008000\">If </span><span style=\"color: #008000; text-decoration-color: #008000\">\"agentic architecture\"</span><span style=\"color: #008000; text-decoration-color: #008000\"> is a term from a specific source, study, or theoretical framework, it might be helpful to consult that context directly for a precise definition or to understand how it's </span>\n",
       "<span style=\"color: #008000; text-decoration-color: #008000\">being applied within a particular discourse.</span>\n",
       "</pre>\n"
      ],
      "text/plain": [
       "*\u001b[1m(\u001b[0mBot\u001b[1m)\u001b[0m \u001b[37m Entity.LLM \u001b[0m \u001b[1;32mEntity.LLM\u001b[0m\u001b[1m(\u001b[0m          \u001b[1m)\u001b[0m \u001b[1m(\u001b[0m=>          \u001b[1m)\u001b[0m \u001b[1m(\u001b[0mX           \u001b[1m)\u001b[0m       \u001b[1m(\u001b[0m          \u001b[1m)\u001b[0m \u001b[32mIf you're indicating that the term \u001b[0m\u001b[32m\"agentic architecture\"\u001b[0m\u001b[32m is unfamiliar or not widely recognized in the \u001b[0m\n",
       "\u001b[32mfield of architecture, it's possible that the term might be either very niche, emerging, or perhaps used in a specific context not broadly covered in mainstream architectural discussions. The concept \u001b[0m\n",
       "\u001b[32mas described, focusing on user interaction, adaptability, and the active role of architecture in influencing or responding to its users, aligns with several contemporary architectural and design \u001b[0m\n",
       "\u001b[32mtrends. However, the specific term \u001b[0m\u001b[32m\"agentic architecture\"\u001b[0m\u001b[32m might not be widely established or could be used within a particular theoretical or research framework rather than being a common term in the \u001b[0m\n",
       "\u001b[32mindustry.\u001b[0m\n",
       "\n",
       "\u001b[32mIn architecture and design, the exploration of how spaces can dynamically engage with and adapt to users is ongoing, with terms like \u001b[0m\u001b[32m\"interactive architecture,\"\u001b[0m\u001b[32m \u001b[0m\u001b[32m\"responsive architecture,\"\u001b[0m\u001b[32m and \u001b[0m\n",
       "\u001b[32m\"adaptive architecture\"\u001b[0m\u001b[32m being more commonly used to describe such approaches. These concepts focus on creating environments that can change in response to user needs, environmental conditions, or \u001b[0m\n",
       "\u001b[32mtechnological inputs, aiming to create more livable, sustainable, and engaging spaces.\u001b[0m\n",
       "\n",
       "\u001b[32mIf \u001b[0m\u001b[32m\"agentic architecture\"\u001b[0m\u001b[32m is a term from a specific source, study, or theoretical framework, it might be helpful to consult that context directly for a precise definition or to understand how it's \u001b[0m\n",
       "\u001b[32mbeing applied within a particular discourse.\u001b[0m\n"
      ]
     },
     "metadata": {},
     "output_type": "display_data"
    },
    {
     "data": {
      "text/html": [
       "<pre style=\"white-space:pre;overflow-x:auto;line-height:normal;font-family:Menlo,'DejaVu Sans Mono',consolas,'Courier New',monospace\"><span style=\"color: #000080; text-decoration-color: #000080\">Human (respond or q, x to exit current level, or hit enter to continue)</span>\n",
       ": </pre>\n"
      ],
      "text/plain": [
       "\u001b[34mHuman (respond or q, x to exit current level, or hit enter to continue)\u001b[0m\n",
       ": "
      ]
     },
     "metadata": {},
     "output_type": "display_data"
    },
    {
     "name": "stdin",
     "output_type": "stream",
     "text": [
      " q\n"
     ]
    },
    {
     "data": {
      "text/html": [
       "<pre style=\"white-space:pre;overflow-x:auto;line-height:normal;font-family:Menlo,'DejaVu Sans Mono',consolas,'Courier New',monospace\">*<span style=\"font-weight: bold\">(</span>Bot<span style=\"font-weight: bold\">)</span> <span style=\"color: #c0c0c0; text-decoration-color: #c0c0c0\"> Entity.USER </span> <span style=\"color: #000080; text-decoration-color: #000080; font-weight: bold\">Entity.USER</span><span style=\"font-weight: bold\">(</span>          <span style=\"font-weight: bold\">)</span> <span style=\"font-weight: bold\">(</span>=&gt;          <span style=\"font-weight: bold\">)</span> <span style=\"font-weight: bold\">(</span>X           <span style=\"font-weight: bold\">)</span>       <span style=\"font-weight: bold\">(</span>          <span style=\"font-weight: bold\">)</span> <span style=\"color: #000080; text-decoration-color: #000080\">q</span>\n",
       "</pre>\n"
      ],
      "text/plain": [
       "*\u001b[1m(\u001b[0mBot\u001b[1m)\u001b[0m \u001b[37m Entity.USER \u001b[0m \u001b[1;34mEntity.USER\u001b[0m\u001b[1m(\u001b[0m          \u001b[1m)\u001b[0m \u001b[1m(\u001b[0m=>          \u001b[1m)\u001b[0m \u001b[1m(\u001b[0mX           \u001b[1m)\u001b[0m       \u001b[1m(\u001b[0m          \u001b[1m)\u001b[0m \u001b[34mq\u001b[0m\n"
      ]
     },
     "metadata": {},
     "output_type": "display_data"
    },
    {
     "data": {
      "text/html": [
       "<pre style=\"white-space:pre;overflow-x:auto;line-height:normal;font-family:Menlo,'DejaVu Sans Mono',consolas,'Courier New',monospace\"><span style=\"color: #800080; text-decoration-color: #800080\">Bye, hope this was useful!</span>\n",
       "</pre>\n"
      ],
      "text/plain": [
       "\u001b[35mBye, hope this was useful!\u001b[0m\n"
      ]
     },
     "metadata": {},
     "output_type": "display_data"
    },
    {
     "data": {
      "text/html": [
       "<pre style=\"white-space:pre;overflow-x:auto;line-height:normal;font-family:Menlo,'DejaVu Sans Mono',consolas,'Courier New',monospace\"><span style=\"color: #800080; text-decoration-color: #800080; font-weight: bold\">&lt;&lt;&lt; Finished Agent Bot (</span><span style=\"color: #800080; text-decoration-color: #800080; font-weight: bold\">5</span><span style=\"color: #800080; text-decoration-color: #800080; font-weight: bold\">) </span>\n",
       "</pre>\n"
      ],
      "text/plain": [
       "\u001b[1;35m<<< Finished Agent Bot \u001b[0m\u001b[1;35m(\u001b[0m\u001b[1;35m5\u001b[0m\u001b[1;35m)\u001b[0m\u001b[1;35m \u001b[0m\n"
      ]
     },
     "metadata": {},
     "output_type": "display_data"
    },
    {
     "name": "stderr",
     "output_type": "stream",
     "text": [
      "\u001b[33m2024-04-16 12:00:02 - WARNING - REDIS_PASSWORD, REDIS_HOST, REDIS_PORT not set in .env file,\n",
      "                    using fake redis client\u001b[0m\n",
      "\u001b[33m2024-04-16 12:00:02 - WARNING - REDIS_PASSWORD, REDIS_HOST, REDIS_PORT not set in .env file,\n",
      "                    using fake redis client\u001b[0m\n"
     ]
    },
    {
     "data": {
      "text/html": [
       "<pre style=\"white-space:pre;overflow-x:auto;line-height:normal;font-family:Menlo,'DejaVu Sans Mono',consolas,'Courier New',monospace\"> <span style=\"font-weight: bold\">(</span>Teacher<span style=\"font-weight: bold\">)</span> <span style=\"color: #800000; text-decoration-color: #800000\"> Entity.USER </span>\n",
       "</pre>\n"
      ],
      "text/plain": [
       " \u001b[1m(\u001b[0mTeacher\u001b[1m)\u001b[0m \u001b[31m Entity.USER \u001b[0m\n"
      ]
     },
     "metadata": {},
     "output_type": "display_data"
    },
    {
     "data": {
      "text/html": [
       "<pre style=\"white-space:pre;overflow-x:auto;line-height:normal;font-family:Menlo,'DejaVu Sans Mono',consolas,'Courier New',monospace\"><span style=\"color: #800080; text-decoration-color: #800080; font-weight: bold\">&gt;&gt;&gt; Starting Agent Teacher (</span><span style=\"color: #800080; text-decoration-color: #800080; font-weight: bold\">1</span><span style=\"color: #800080; text-decoration-color: #800080; font-weight: bold\">) gpt-</span><span style=\"color: #800080; text-decoration-color: #800080; font-weight: bold\">4</span><span style=\"color: #800080; text-decoration-color: #800080; font-weight: bold\">-turbo-preview </span>\n",
       "</pre>\n"
      ],
      "text/plain": [
       "\u001b[1;35m>>> Starting Agent Teacher \u001b[0m\u001b[1;35m(\u001b[0m\u001b[1;35m1\u001b[0m\u001b[1;35m)\u001b[0m\u001b[1;35m gpt-\u001b[0m\u001b[1;35m4\u001b[0m\u001b[1;35m-turbo-preview \u001b[0m\n"
      ]
     },
     "metadata": {},
     "output_type": "display_data"
    },
    {
     "data": {
      "text/html": [
       "<pre style=\"white-space:pre;overflow-x:auto;line-height:normal;font-family:Menlo,'DejaVu Sans Mono',consolas,'Courier New',monospace\"> <span style=\"font-weight: bold\">(</span>Teacher<span style=\"font-weight: bold\">)</span> <span style=\"color: #800000; text-decoration-color: #800000\"> Entity.USER </span> <span style=\"color: #000080; text-decoration-color: #000080; font-weight: bold\">Entity.USER</span><span style=\"font-weight: bold\">(</span>Entity.USER<span style=\"font-weight: bold\">)</span> <span style=\"font-weight: bold\">(</span>=&gt;          <span style=\"font-weight: bold\">)</span> <span style=\"font-weight: bold\">(</span>X           <span style=\"font-weight: bold\">)</span>       <span style=\"font-weight: bold\">(</span>          <span style=\"font-weight: bold\">)</span> <span style=\"color: #000080; text-decoration-color: #000080; font-weight: bold\">[</span><span style=\"color: #000080; text-decoration-color: #000080\">CANNOT RESPOND</span><span style=\"color: #000080; text-decoration-color: #000080; font-weight: bold\">]</span>\n",
       "</pre>\n"
      ],
      "text/plain": [
       " \u001b[1m(\u001b[0mTeacher\u001b[1m)\u001b[0m \u001b[31m Entity.USER \u001b[0m \u001b[1;34mEntity.USER\u001b[0m\u001b[1m(\u001b[0mEntity.USER\u001b[1m)\u001b[0m \u001b[1m(\u001b[0m=>          \u001b[1m)\u001b[0m \u001b[1m(\u001b[0mX           \u001b[1m)\u001b[0m       \u001b[1m(\u001b[0m          \u001b[1m)\u001b[0m \u001b[1;34m[\u001b[0m\u001b[34mCANNOT RESPOND\u001b[0m\u001b[1;34m]\u001b[0m\n"
      ]
     },
     "metadata": {},
     "output_type": "display_data"
    },
    {
     "data": {
      "text/html": [
       "<pre style=\"white-space:pre;overflow-x:auto;line-height:normal;font-family:Menlo,'DejaVu Sans Mono',consolas,'Courier New',monospace\"> <span style=\"font-weight: bold\">(</span>Teacher<span style=\"font-weight: bold\">)</span> <span style=\"color: #800000; text-decoration-color: #800000\"> Entity.AGENT </span>\n",
       "</pre>\n"
      ],
      "text/plain": [
       " \u001b[1m(\u001b[0mTeacher\u001b[1m)\u001b[0m \u001b[31m Entity.AGENT \u001b[0m\n"
      ]
     },
     "metadata": {},
     "output_type": "display_data"
    },
    {
     "data": {
      "text/html": [
       "<pre style=\"white-space:pre;overflow-x:auto;line-height:normal;font-family:Menlo,'DejaVu Sans Mono',consolas,'Courier New',monospace\"></pre>\n"
      ],
      "text/plain": []
     },
     "metadata": {},
     "output_type": "display_data"
    },
    {
     "name": "stdout",
     "output_type": "stream",
     "text": [
      "\u001b[32m\u001b[32mWhat\u001b[32m is\u001b[32m the\u001b[32m square\u001b[32m root\u001b[32m of\u001b[32m \u001b[32m144\u001b[32m?"
     ]
    },
    {
     "data": {
      "text/html": [
       "<pre style=\"white-space:pre;overflow-x:auto;line-height:normal;font-family:Menlo,'DejaVu Sans Mono',consolas,'Courier New',monospace\">\n",
       "</pre>\n"
      ],
      "text/plain": [
       "\n"
      ]
     },
     "metadata": {},
     "output_type": "display_data"
    },
    {
     "data": {
      "text/html": [
       "<pre style=\"white-space:pre;overflow-x:auto;line-height:normal;font-family:Menlo,'DejaVu Sans Mono',consolas,'Courier New',monospace\"><span style=\"font-weight: bold\">Stats:</span> <span style=\"color: #800080; text-decoration-color: #800080\">N_MSG</span><span style=\"color: #800080; text-decoration-color: #800080\">=</span><span style=\"color: #800080; text-decoration-color: #800080; font-weight: bold\">1</span><span style=\"color: #800080; text-decoration-color: #800080\">, TOKENS: </span><span style=\"color: #800080; text-decoration-color: #800080\">in</span><span style=\"color: #800080; text-decoration-color: #800080\">=</span><span style=\"color: #800080; text-decoration-color: #800080; font-weight: bold\">18</span><span style=\"color: #800080; text-decoration-color: #800080\">, </span><span style=\"color: #800080; text-decoration-color: #800080\">out</span><span style=\"color: #800080; text-decoration-color: #800080\">=</span><span style=\"color: #800080; text-decoration-color: #800080; font-weight: bold\">9</span><span style=\"color: #800080; text-decoration-color: #800080\">, </span><span style=\"color: #800080; text-decoration-color: #800080\">max</span><span style=\"color: #800080; text-decoration-color: #800080\">=</span><span style=\"color: #800080; text-decoration-color: #800080; font-weight: bold\">1024</span><span style=\"color: #800080; text-decoration-color: #800080\">, </span><span style=\"color: #800080; text-decoration-color: #800080\">ctx</span><span style=\"color: #800080; text-decoration-color: #800080\">=</span><span style=\"color: #800080; text-decoration-color: #800080; font-weight: bold\">128000</span><span style=\"color: #800080; text-decoration-color: #800080\">, COST: </span><span style=\"color: #800080; text-decoration-color: #800080\">now</span><span style=\"color: #800080; text-decoration-color: #800080\">=$</span><span style=\"color: #800080; text-decoration-color: #800080; font-weight: bold\">0.0004</span><span style=\"color: #800080; text-decoration-color: #800080\">, </span><span style=\"color: #800080; text-decoration-color: #800080\">cumul</span><span style=\"color: #800080; text-decoration-color: #800080\">=$</span><span style=\"color: #800080; text-decoration-color: #800080; font-weight: bold\">0.0004</span><span style=\"color: #800080; text-decoration-color: #800080\"> </span><span style=\"color: #800080; text-decoration-color: #800080; font-weight: bold\">(gpt-</span><span style=\"color: #800080; text-decoration-color: #800080; font-weight: bold\">4</span><span style=\"color: #800080; text-decoration-color: #800080; font-weight: bold\">-turbo-preview)</span>\n",
       "</pre>\n"
      ],
      "text/plain": [
       "\u001b[1mStats:\u001b[0m \u001b[35mN_MSG\u001b[0m\u001b[35m=\u001b[0m\u001b[1;35m1\u001b[0m\u001b[35m, TOKENS: \u001b[0m\u001b[35min\u001b[0m\u001b[35m=\u001b[0m\u001b[1;35m18\u001b[0m\u001b[35m, \u001b[0m\u001b[35mout\u001b[0m\u001b[35m=\u001b[0m\u001b[1;35m9\u001b[0m\u001b[35m, \u001b[0m\u001b[35mmax\u001b[0m\u001b[35m=\u001b[0m\u001b[1;35m1024\u001b[0m\u001b[35m, \u001b[0m\u001b[35mctx\u001b[0m\u001b[35m=\u001b[0m\u001b[1;35m128000\u001b[0m\u001b[35m, COST: \u001b[0m\u001b[35mnow\u001b[0m\u001b[35m=$\u001b[0m\u001b[1;35m0.0004\u001b[0m\u001b[35m, \u001b[0m\u001b[35mcumul\u001b[0m\u001b[35m=$\u001b[0m\u001b[1;35m0.0004\u001b[0m\u001b[35m \u001b[0m\u001b[1;35m(\u001b[0m\u001b[1;35mgpt-\u001b[0m\u001b[1;35m4\u001b[0m\u001b[1;35m-turbo-preview\u001b[0m\u001b[1;35m)\u001b[0m\n"
      ]
     },
     "metadata": {},
     "output_type": "display_data"
    },
    {
     "data": {
      "text/html": [
       "<pre style=\"white-space:pre;overflow-x:auto;line-height:normal;font-family:Menlo,'DejaVu Sans Mono',consolas,'Courier New',monospace\">*<span style=\"font-weight: bold\">(</span>Teacher<span style=\"font-weight: bold\">)</span> <span style=\"color: #c0c0c0; text-decoration-color: #c0c0c0\"> Entity.LLM </span> <span style=\"color: #008000; text-decoration-color: #008000; font-weight: bold\">Entity.LLM</span><span style=\"font-weight: bold\">(</span>          <span style=\"font-weight: bold\">)</span> <span style=\"font-weight: bold\">(</span>=&gt;          <span style=\"font-weight: bold\">)</span> <span style=\"font-weight: bold\">(</span>X           <span style=\"font-weight: bold\">)</span>       <span style=\"font-weight: bold\">(</span>          <span style=\"font-weight: bold\">)</span> <span style=\"color: #008000; text-decoration-color: #008000\">What is the square root of </span><span style=\"color: #008000; text-decoration-color: #008000; font-weight: bold\">144</span><span style=\"color: #008000; text-decoration-color: #008000\">?</span>\n",
       "</pre>\n"
      ],
      "text/plain": [
       "*\u001b[1m(\u001b[0mTeacher\u001b[1m)\u001b[0m \u001b[37m Entity.LLM \u001b[0m \u001b[1;32mEntity.LLM\u001b[0m\u001b[1m(\u001b[0m          \u001b[1m)\u001b[0m \u001b[1m(\u001b[0m=>          \u001b[1m)\u001b[0m \u001b[1m(\u001b[0mX           \u001b[1m)\u001b[0m       \u001b[1m(\u001b[0m          \u001b[1m)\u001b[0m \u001b[32mWhat is the square root of \u001b[0m\u001b[1;32m144\u001b[0m\u001b[32m?\u001b[0m\n"
      ]
     },
     "metadata": {},
     "output_type": "display_data"
    },
    {
     "data": {
      "text/html": [
       "<pre style=\"white-space:pre;overflow-x:auto;line-height:normal;font-family:Menlo,'DejaVu Sans Mono',consolas,'Courier New',monospace\"><span style=\"color: #000080; text-decoration-color: #000080\">Human (respond or q, x to exit current level, or hit enter to continue)</span>\n",
       ": </pre>\n"
      ],
      "text/plain": [
       "\u001b[34mHuman (respond or q, x to exit current level, or hit enter to continue)\u001b[0m\n",
       ": "
      ]
     },
     "metadata": {},
     "output_type": "display_data"
    },
    {
     "name": "stdin",
     "output_type": "stream",
     "text": [
      " q\n"
     ]
    },
    {
     "data": {
      "text/html": [
       "<pre style=\"white-space:pre;overflow-x:auto;line-height:normal;font-family:Menlo,'DejaVu Sans Mono',consolas,'Courier New',monospace\">*<span style=\"font-weight: bold\">(</span>Teacher<span style=\"font-weight: bold\">)</span> <span style=\"color: #c0c0c0; text-decoration-color: #c0c0c0\"> Entity.USER </span> <span style=\"color: #000080; text-decoration-color: #000080; font-weight: bold\">Entity.USER</span><span style=\"font-weight: bold\">(</span>          <span style=\"font-weight: bold\">)</span> <span style=\"font-weight: bold\">(</span>=&gt;          <span style=\"font-weight: bold\">)</span> <span style=\"font-weight: bold\">(</span>X           <span style=\"font-weight: bold\">)</span>       <span style=\"font-weight: bold\">(</span>          <span style=\"font-weight: bold\">)</span> <span style=\"color: #000080; text-decoration-color: #000080\">q</span>\n",
       "</pre>\n"
      ],
      "text/plain": [
       "*\u001b[1m(\u001b[0mTeacher\u001b[1m)\u001b[0m \u001b[37m Entity.USER \u001b[0m \u001b[1;34mEntity.USER\u001b[0m\u001b[1m(\u001b[0m          \u001b[1m)\u001b[0m \u001b[1m(\u001b[0m=>          \u001b[1m)\u001b[0m \u001b[1m(\u001b[0mX           \u001b[1m)\u001b[0m       \u001b[1m(\u001b[0m          \u001b[1m)\u001b[0m \u001b[34mq\u001b[0m\n"
      ]
     },
     "metadata": {},
     "output_type": "display_data"
    },
    {
     "data": {
      "text/html": [
       "<pre style=\"white-space:pre;overflow-x:auto;line-height:normal;font-family:Menlo,'DejaVu Sans Mono',consolas,'Courier New',monospace\"><span style=\"color: #800080; text-decoration-color: #800080\">Bye, hope this was useful!</span>\n",
       "</pre>\n"
      ],
      "text/plain": [
       "\u001b[35mBye, hope this was useful!\u001b[0m\n"
      ]
     },
     "metadata": {},
     "output_type": "display_data"
    },
    {
     "data": {
      "text/html": [
       "<pre style=\"white-space:pre;overflow-x:auto;line-height:normal;font-family:Menlo,'DejaVu Sans Mono',consolas,'Courier New',monospace\"><span style=\"color: #800080; text-decoration-color: #800080; font-weight: bold\">&lt;&lt;&lt; Finished Agent Teacher (</span><span style=\"color: #800080; text-decoration-color: #800080; font-weight: bold\">2</span><span style=\"color: #800080; text-decoration-color: #800080; font-weight: bold\">) </span>\n",
       "</pre>\n"
      ],
      "text/plain": [
       "\u001b[1;35m<<< Finished Agent Teacher \u001b[0m\u001b[1;35m(\u001b[0m\u001b[1;35m2\u001b[0m\u001b[1;35m)\u001b[0m\u001b[1;35m \u001b[0m\n"
      ]
     },
     "metadata": {},
     "output_type": "display_data"
    },
    {
     "data": {
      "text/plain": [
       "ChatDocument(content='q', metadata=ChatDocMetaData(source='User', is_chunk=False, id='', window_ids=[], parent=None, sender=<Entity.USER: 'User'>, tool_ids=[], parent_responder=None, block=None, sender_name='Teacher', recipient='', usage=None, cached=False, displayed=False), function_call=None, tool_messages=[], attachment=None)"
      ]
     },
     "execution_count": 4,
     "metadata": {},
     "output_type": "execute_result"
    }
   ],
   "source": [
    "# wrap Agent in a Task to run interactive loop with user (or other agents)\n",
    "task = lr.Task(agent, name=\"Bot\", system_message=\"You are a helpful assistant\")\n",
    "task.run(\"do you understand what an 'agentic architecture' is ?\") # kick off with user saying \"Hello\""
   ]
  },
  {
   "cell_type": "code",
   "execution_count": 5,
   "id": "5dcc3c3d-09de-4766-845c-af1e00e4a721",
   "metadata": {},
   "outputs": [
    {
     "name": "stderr",
     "output_type": "stream",
     "text": [
      "\u001b[33m2024-04-16 12:00:34 - WARNING - REDIS_PASSWORD, REDIS_HOST, REDIS_PORT not set in .env file,\n",
      "                    using fake redis client\u001b[0m\n",
      "\u001b[33m2024-04-16 12:00:34 - WARNING - REDIS_PASSWORD, REDIS_HOST, REDIS_PORT not set in .env file,\n",
      "                    using fake redis client\u001b[0m\n"
     ]
    },
    {
     "data": {
      "text/html": [
       "<pre style=\"white-space:pre;overflow-x:auto;line-height:normal;font-family:Menlo,'DejaVu Sans Mono',consolas,'Courier New',monospace\"> <span style=\"font-weight: bold\">(</span>Teacher<span style=\"font-weight: bold\">)</span> <span style=\"color: #800000; text-decoration-color: #800000\"> Entity.USER </span>\n",
       "</pre>\n"
      ],
      "text/plain": [
       " \u001b[1m(\u001b[0mTeacher\u001b[1m)\u001b[0m \u001b[31m Entity.USER \u001b[0m\n"
      ]
     },
     "metadata": {},
     "output_type": "display_data"
    },
    {
     "data": {
      "text/html": [
       "<pre style=\"white-space:pre;overflow-x:auto;line-height:normal;font-family:Menlo,'DejaVu Sans Mono',consolas,'Courier New',monospace\"><span style=\"color: #800080; text-decoration-color: #800080; font-weight: bold\">&gt;&gt;&gt; Starting Agent Teacher (</span><span style=\"color: #800080; text-decoration-color: #800080; font-weight: bold\">1</span><span style=\"color: #800080; text-decoration-color: #800080; font-weight: bold\">) gpt-</span><span style=\"color: #800080; text-decoration-color: #800080; font-weight: bold\">4</span><span style=\"color: #800080; text-decoration-color: #800080; font-weight: bold\">-turbo-preview </span>\n",
       "</pre>\n"
      ],
      "text/plain": [
       "\u001b[1;35m>>> Starting Agent Teacher \u001b[0m\u001b[1;35m(\u001b[0m\u001b[1;35m1\u001b[0m\u001b[1;35m)\u001b[0m\u001b[1;35m gpt-\u001b[0m\u001b[1;35m4\u001b[0m\u001b[1;35m-turbo-preview \u001b[0m\n"
      ]
     },
     "metadata": {},
     "output_type": "display_data"
    },
    {
     "data": {
      "text/html": [
       "<pre style=\"white-space:pre;overflow-x:auto;line-height:normal;font-family:Menlo,'DejaVu Sans Mono',consolas,'Courier New',monospace\"> <span style=\"font-weight: bold\">(</span>Teacher<span style=\"font-weight: bold\">)</span> <span style=\"color: #800000; text-decoration-color: #800000\"> Entity.USER </span> <span style=\"color: #000080; text-decoration-color: #000080; font-weight: bold\">Entity.USER</span><span style=\"font-weight: bold\">(</span>Entity.USER<span style=\"font-weight: bold\">)</span> <span style=\"font-weight: bold\">(</span>=&gt;          <span style=\"font-weight: bold\">)</span> <span style=\"font-weight: bold\">(</span>X           <span style=\"font-weight: bold\">)</span>       <span style=\"font-weight: bold\">(</span>          <span style=\"font-weight: bold\">)</span> <span style=\"color: #000080; text-decoration-color: #000080; font-weight: bold\">[</span><span style=\"color: #000080; text-decoration-color: #000080\">CANNOT RESPOND</span><span style=\"color: #000080; text-decoration-color: #000080; font-weight: bold\">]</span>\n",
       "</pre>\n"
      ],
      "text/plain": [
       " \u001b[1m(\u001b[0mTeacher\u001b[1m)\u001b[0m \u001b[31m Entity.USER \u001b[0m \u001b[1;34mEntity.USER\u001b[0m\u001b[1m(\u001b[0mEntity.USER\u001b[1m)\u001b[0m \u001b[1m(\u001b[0m=>          \u001b[1m)\u001b[0m \u001b[1m(\u001b[0mX           \u001b[1m)\u001b[0m       \u001b[1m(\u001b[0m          \u001b[1m)\u001b[0m \u001b[1;34m[\u001b[0m\u001b[34mCANNOT RESPOND\u001b[0m\u001b[1;34m]\u001b[0m\n"
      ]
     },
     "metadata": {},
     "output_type": "display_data"
    },
    {
     "data": {
      "text/html": [
       "<pre style=\"white-space:pre;overflow-x:auto;line-height:normal;font-family:Menlo,'DejaVu Sans Mono',consolas,'Courier New',monospace\"> <span style=\"font-weight: bold\">(</span>Teacher<span style=\"font-weight: bold\">)</span> <span style=\"color: #800000; text-decoration-color: #800000\"> Entity.AGENT </span>\n",
       "</pre>\n"
      ],
      "text/plain": [
       " \u001b[1m(\u001b[0mTeacher\u001b[1m)\u001b[0m \u001b[31m Entity.AGENT \u001b[0m\n"
      ]
     },
     "metadata": {},
     "output_type": "display_data"
    },
    {
     "data": {
      "text/html": [
       "<pre style=\"white-space:pre;overflow-x:auto;line-height:normal;font-family:Menlo,'DejaVu Sans Mono',consolas,'Courier New',monospace\"></pre>\n"
      ],
      "text/plain": []
     },
     "metadata": {},
     "output_type": "display_data"
    },
    {
     "name": "stdout",
     "output_type": "stream",
     "text": [
      "\u001b[32m\u001b[32mWhat\u001b[32m is\u001b[32m the\u001b[32m square\u001b[32m root\u001b[32m of\u001b[32m \u001b[32m144\u001b[32m?"
     ]
    },
    {
     "data": {
      "text/html": [
       "<pre style=\"white-space:pre;overflow-x:auto;line-height:normal;font-family:Menlo,'DejaVu Sans Mono',consolas,'Courier New',monospace\">\n",
       "</pre>\n"
      ],
      "text/plain": [
       "\n"
      ]
     },
     "metadata": {},
     "output_type": "display_data"
    },
    {
     "data": {
      "text/html": [
       "<pre style=\"white-space:pre;overflow-x:auto;line-height:normal;font-family:Menlo,'DejaVu Sans Mono',consolas,'Courier New',monospace\"><span style=\"font-weight: bold\">Stats:</span> <span style=\"color: #800080; text-decoration-color: #800080\">N_MSG</span><span style=\"color: #800080; text-decoration-color: #800080\">=</span><span style=\"color: #800080; text-decoration-color: #800080; font-weight: bold\">1</span><span style=\"color: #800080; text-decoration-color: #800080\">, TOKENS: </span><span style=\"color: #800080; text-decoration-color: #800080\">in</span><span style=\"color: #800080; text-decoration-color: #800080\">=</span><span style=\"color: #800080; text-decoration-color: #800080; font-weight: bold\">18</span><span style=\"color: #800080; text-decoration-color: #800080\">, </span><span style=\"color: #800080; text-decoration-color: #800080\">out</span><span style=\"color: #800080; text-decoration-color: #800080\">=</span><span style=\"color: #800080; text-decoration-color: #800080; font-weight: bold\">9</span><span style=\"color: #800080; text-decoration-color: #800080\">, </span><span style=\"color: #800080; text-decoration-color: #800080\">max</span><span style=\"color: #800080; text-decoration-color: #800080\">=</span><span style=\"color: #800080; text-decoration-color: #800080; font-weight: bold\">1024</span><span style=\"color: #800080; text-decoration-color: #800080\">, </span><span style=\"color: #800080; text-decoration-color: #800080\">ctx</span><span style=\"color: #800080; text-decoration-color: #800080\">=</span><span style=\"color: #800080; text-decoration-color: #800080; font-weight: bold\">128000</span><span style=\"color: #800080; text-decoration-color: #800080\">, COST: </span><span style=\"color: #800080; text-decoration-color: #800080\">now</span><span style=\"color: #800080; text-decoration-color: #800080\">=$</span><span style=\"color: #800080; text-decoration-color: #800080; font-weight: bold\">0.0004</span><span style=\"color: #800080; text-decoration-color: #800080\">, </span><span style=\"color: #800080; text-decoration-color: #800080\">cumul</span><span style=\"color: #800080; text-decoration-color: #800080\">=$</span><span style=\"color: #800080; text-decoration-color: #800080; font-weight: bold\">0.0004</span><span style=\"color: #800080; text-decoration-color: #800080\"> </span><span style=\"color: #800080; text-decoration-color: #800080; font-weight: bold\">(gpt-</span><span style=\"color: #800080; text-decoration-color: #800080; font-weight: bold\">4</span><span style=\"color: #800080; text-decoration-color: #800080; font-weight: bold\">-turbo-preview)</span>\n",
       "</pre>\n"
      ],
      "text/plain": [
       "\u001b[1mStats:\u001b[0m \u001b[35mN_MSG\u001b[0m\u001b[35m=\u001b[0m\u001b[1;35m1\u001b[0m\u001b[35m, TOKENS: \u001b[0m\u001b[35min\u001b[0m\u001b[35m=\u001b[0m\u001b[1;35m18\u001b[0m\u001b[35m, \u001b[0m\u001b[35mout\u001b[0m\u001b[35m=\u001b[0m\u001b[1;35m9\u001b[0m\u001b[35m, \u001b[0m\u001b[35mmax\u001b[0m\u001b[35m=\u001b[0m\u001b[1;35m1024\u001b[0m\u001b[35m, \u001b[0m\u001b[35mctx\u001b[0m\u001b[35m=\u001b[0m\u001b[1;35m128000\u001b[0m\u001b[35m, COST: \u001b[0m\u001b[35mnow\u001b[0m\u001b[35m=$\u001b[0m\u001b[1;35m0.0004\u001b[0m\u001b[35m, \u001b[0m\u001b[35mcumul\u001b[0m\u001b[35m=$\u001b[0m\u001b[1;35m0.0004\u001b[0m\u001b[35m \u001b[0m\u001b[1;35m(\u001b[0m\u001b[1;35mgpt-\u001b[0m\u001b[1;35m4\u001b[0m\u001b[1;35m-turbo-preview\u001b[0m\u001b[1;35m)\u001b[0m\n"
      ]
     },
     "metadata": {},
     "output_type": "display_data"
    },
    {
     "data": {
      "text/html": [
       "<pre style=\"white-space:pre;overflow-x:auto;line-height:normal;font-family:Menlo,'DejaVu Sans Mono',consolas,'Courier New',monospace\">*<span style=\"font-weight: bold\">(</span>Teacher<span style=\"font-weight: bold\">)</span> <span style=\"color: #c0c0c0; text-decoration-color: #c0c0c0\"> Entity.LLM </span> <span style=\"color: #008000; text-decoration-color: #008000; font-weight: bold\">Entity.LLM</span><span style=\"font-weight: bold\">(</span>          <span style=\"font-weight: bold\">)</span> <span style=\"font-weight: bold\">(</span>=&gt;          <span style=\"font-weight: bold\">)</span> <span style=\"font-weight: bold\">(</span>X           <span style=\"font-weight: bold\">)</span>       <span style=\"font-weight: bold\">(</span>          <span style=\"font-weight: bold\">)</span> <span style=\"color: #008000; text-decoration-color: #008000\">What is the square root of </span><span style=\"color: #008000; text-decoration-color: #008000; font-weight: bold\">144</span><span style=\"color: #008000; text-decoration-color: #008000\">?</span>\n",
       "</pre>\n"
      ],
      "text/plain": [
       "*\u001b[1m(\u001b[0mTeacher\u001b[1m)\u001b[0m \u001b[37m Entity.LLM \u001b[0m \u001b[1;32mEntity.LLM\u001b[0m\u001b[1m(\u001b[0m          \u001b[1m)\u001b[0m \u001b[1m(\u001b[0m=>          \u001b[1m)\u001b[0m \u001b[1m(\u001b[0mX           \u001b[1m)\u001b[0m       \u001b[1m(\u001b[0m          \u001b[1m)\u001b[0m \u001b[32mWhat is the square root of \u001b[0m\u001b[1;32m144\u001b[0m\u001b[32m?\u001b[0m\n"
      ]
     },
     "metadata": {},
     "output_type": "display_data"
    },
    {
     "data": {
      "text/html": [
       "<pre style=\"white-space:pre;overflow-x:auto;line-height:normal;font-family:Menlo,'DejaVu Sans Mono',consolas,'Courier New',monospace\"><span style=\"color: #000080; text-decoration-color: #000080\">Human (respond or q, x to exit current level, or hit enter to continue)</span>\n",
       ": </pre>\n"
      ],
      "text/plain": [
       "\u001b[34mHuman (respond or q, x to exit current level, or hit enter to continue)\u001b[0m\n",
       ": "
      ]
     },
     "metadata": {},
     "output_type": "display_data"
    },
    {
     "name": "stdin",
     "output_type": "stream",
     "text": [
      " \n"
     ]
    },
    {
     "data": {
      "text/html": [
       "<pre style=\"white-space:pre;overflow-x:auto;line-height:normal;font-family:Menlo,'DejaVu Sans Mono',consolas,'Courier New',monospace\"> <span style=\"font-weight: bold\">(</span>Teacher<span style=\"font-weight: bold\">)</span> <span style=\"color: #800000; text-decoration-color: #800000\"> Entity.USER </span>\n",
       "</pre>\n"
      ],
      "text/plain": [
       " \u001b[1m(\u001b[0mTeacher\u001b[1m)\u001b[0m \u001b[31m Entity.USER \u001b[0m\n"
      ]
     },
     "metadata": {},
     "output_type": "display_data"
    },
    {
     "data": {
      "text/html": [
       "<pre style=\"white-space:pre;overflow-x:auto;line-height:normal;font-family:Menlo,'DejaVu Sans Mono',consolas,'Courier New',monospace\"> <span style=\"font-weight: bold\">(</span>Teacher<span style=\"font-weight: bold\">)</span> <span style=\"color: #800000; text-decoration-color: #800000\"> Entity.AGENT </span>\n",
       "</pre>\n"
      ],
      "text/plain": [
       " \u001b[1m(\u001b[0mTeacher\u001b[1m)\u001b[0m \u001b[31m Entity.AGENT \u001b[0m\n"
      ]
     },
     "metadata": {},
     "output_type": "display_data"
    },
    {
     "data": {
      "text/html": [
       "<pre style=\"white-space:pre;overflow-x:auto;line-height:normal;font-family:Menlo,'DejaVu Sans Mono',consolas,'Courier New',monospace\"> <span style=\"font-weight: bold\">(</span>Teacher<span style=\"font-weight: bold\">)</span> <span style=\"color: #800000; text-decoration-color: #800000\"> Entity.LLM </span> <span style=\"color: #008000; text-decoration-color: #008000; font-weight: bold\">Entity.LLM</span><span style=\"font-weight: bold\">(</span>Entity.LLM<span style=\"font-weight: bold\">)</span> <span style=\"font-weight: bold\">(</span>=&gt;          <span style=\"font-weight: bold\">)</span> <span style=\"font-weight: bold\">(</span>X           <span style=\"font-weight: bold\">)</span>       <span style=\"font-weight: bold\">(</span>          <span style=\"font-weight: bold\">)</span> <span style=\"color: #008000; text-decoration-color: #008000; font-weight: bold\">[</span><span style=\"color: #008000; text-decoration-color: #008000\">CANNOT RESPOND</span><span style=\"color: #008000; text-decoration-color: #008000; font-weight: bold\">]</span>\n",
       "</pre>\n"
      ],
      "text/plain": [
       " \u001b[1m(\u001b[0mTeacher\u001b[1m)\u001b[0m \u001b[31m Entity.LLM \u001b[0m \u001b[1;32mEntity.LLM\u001b[0m\u001b[1m(\u001b[0mEntity.LLM\u001b[1m)\u001b[0m \u001b[1m(\u001b[0m=>          \u001b[1m)\u001b[0m \u001b[1m(\u001b[0mX           \u001b[1m)\u001b[0m       \u001b[1m(\u001b[0m          \u001b[1m)\u001b[0m \u001b[1;32m[\u001b[0m\u001b[32mCANNOT RESPOND\u001b[0m\u001b[1;32m]\u001b[0m\n"
      ]
     },
     "metadata": {},
     "output_type": "display_data"
    },
    {
     "data": {
      "text/html": [
       "<pre style=\"white-space:pre;overflow-x:auto;line-height:normal;font-family:Menlo,'DejaVu Sans Mono',consolas,'Courier New',monospace\"> <span style=\"font-weight: bold\">(</span>Student<span style=\"font-weight: bold\">)</span> <span style=\"color: #800000; text-decoration-color: #800000\"> Entity.USER </span> <span style=\"color: #000080; text-decoration-color: #000080; font-weight: bold\">Entity.USER</span><span style=\"font-weight: bold\">(</span>          <span style=\"font-weight: bold\">)</span> <span style=\"font-weight: bold\">(</span>=&gt;          <span style=\"font-weight: bold\">)</span> <span style=\"font-weight: bold\">(</span>X           <span style=\"font-weight: bold\">)</span>       <span style=\"font-weight: bold\">(</span>          <span style=\"font-weight: bold\">)</span> <span style=\"color: #000080; text-decoration-color: #000080\">What is the square root of </span><span style=\"color: #000080; text-decoration-color: #000080; font-weight: bold\">144</span><span style=\"color: #000080; text-decoration-color: #000080\">?</span>\n",
       "</pre>\n"
      ],
      "text/plain": [
       " \u001b[1m(\u001b[0mStudent\u001b[1m)\u001b[0m \u001b[31m Entity.USER \u001b[0m \u001b[1;34mEntity.USER\u001b[0m\u001b[1m(\u001b[0m          \u001b[1m)\u001b[0m \u001b[1m(\u001b[0m=>          \u001b[1m)\u001b[0m \u001b[1m(\u001b[0mX           \u001b[1m)\u001b[0m       \u001b[1m(\u001b[0m          \u001b[1m)\u001b[0m \u001b[34mWhat is the square root of \u001b[0m\u001b[1;34m144\u001b[0m\u001b[34m?\u001b[0m\n"
      ]
     },
     "metadata": {},
     "output_type": "display_data"
    },
    {
     "data": {
      "text/html": [
       "<pre style=\"white-space:pre;overflow-x:auto;line-height:normal;font-family:Menlo,'DejaVu Sans Mono',consolas,'Courier New',monospace\"><span style=\"color: #800080; text-decoration-color: #800080; font-weight: bold\">...|&gt;&gt;&gt; Starting Agent Student (</span><span style=\"color: #800080; text-decoration-color: #800080; font-weight: bold\">1</span><span style=\"color: #800080; text-decoration-color: #800080; font-weight: bold\">) gpt-</span><span style=\"color: #800080; text-decoration-color: #800080; font-weight: bold\">4</span><span style=\"color: #800080; text-decoration-color: #800080; font-weight: bold\">-turbo-preview </span>\n",
       "</pre>\n"
      ],
      "text/plain": [
       "\u001b[1;35m...\u001b[0m\u001b[1;35m|>>> Starting Agent Student \u001b[0m\u001b[1;35m(\u001b[0m\u001b[1;35m1\u001b[0m\u001b[1;35m)\u001b[0m\u001b[1;35m gpt-\u001b[0m\u001b[1;35m4\u001b[0m\u001b[1;35m-turbo-preview \u001b[0m\n"
      ]
     },
     "metadata": {},
     "output_type": "display_data"
    },
    {
     "data": {
      "text/html": [
       "<pre style=\"white-space:pre;overflow-x:auto;line-height:normal;font-family:Menlo,'DejaVu Sans Mono',consolas,'Courier New',monospace\"> <span style=\"font-weight: bold\">(</span>Student<span style=\"font-weight: bold\">)</span> <span style=\"color: #800000; text-decoration-color: #800000\"> Entity.USER </span> <span style=\"color: #000080; text-decoration-color: #000080; font-weight: bold\">Entity.USER</span><span style=\"font-weight: bold\">(</span>Entity.USER<span style=\"font-weight: bold\">)</span> <span style=\"font-weight: bold\">(</span>=&gt;          <span style=\"font-weight: bold\">)</span> <span style=\"font-weight: bold\">(</span>X           <span style=\"font-weight: bold\">)</span>       <span style=\"font-weight: bold\">(</span>          <span style=\"font-weight: bold\">)</span> <span style=\"color: #000080; text-decoration-color: #000080; font-weight: bold\">[</span><span style=\"color: #000080; text-decoration-color: #000080\">CANNOT RESPOND</span><span style=\"color: #000080; text-decoration-color: #000080; font-weight: bold\">]</span>\n",
       "</pre>\n"
      ],
      "text/plain": [
       " \u001b[1m(\u001b[0mStudent\u001b[1m)\u001b[0m \u001b[31m Entity.USER \u001b[0m \u001b[1;34mEntity.USER\u001b[0m\u001b[1m(\u001b[0mEntity.USER\u001b[1m)\u001b[0m \u001b[1m(\u001b[0m=>          \u001b[1m)\u001b[0m \u001b[1m(\u001b[0mX           \u001b[1m)\u001b[0m       \u001b[1m(\u001b[0m          \u001b[1m)\u001b[0m \u001b[1;34m[\u001b[0m\u001b[34mCANNOT RESPOND\u001b[0m\u001b[1;34m]\u001b[0m\n"
      ]
     },
     "metadata": {},
     "output_type": "display_data"
    },
    {
     "data": {
      "text/html": [
       "<pre style=\"white-space:pre;overflow-x:auto;line-height:normal;font-family:Menlo,'DejaVu Sans Mono',consolas,'Courier New',monospace\"> <span style=\"font-weight: bold\">(</span>Student<span style=\"font-weight: bold\">)</span> <span style=\"color: #800000; text-decoration-color: #800000\"> Entity.AGENT </span>\n",
       "</pre>\n"
      ],
      "text/plain": [
       " \u001b[1m(\u001b[0mStudent\u001b[1m)\u001b[0m \u001b[31m Entity.AGENT \u001b[0m\n"
      ]
     },
     "metadata": {},
     "output_type": "display_data"
    },
    {
     "data": {
      "text/html": [
       "<pre style=\"white-space:pre;overflow-x:auto;line-height:normal;font-family:Menlo,'DejaVu Sans Mono',consolas,'Courier New',monospace\"><span style=\"color: #008000; text-decoration-color: #008000\">...|</span></pre>\n"
      ],
      "text/plain": [
       "\u001b[32m...\u001b[0m\u001b[32m|\u001b[0m"
      ]
     },
     "metadata": {},
     "output_type": "display_data"
    },
    {
     "name": "stdout",
     "output_type": "stream",
     "text": [
      "\u001b[32m\u001b[32mThe\u001b[32m square\u001b[32m root\u001b[32m of\u001b[32m \u001b[32m144\u001b[32m is\u001b[32m \u001b[32m12\u001b[32m."
     ]
    },
    {
     "data": {
      "text/html": [
       "<pre style=\"white-space:pre;overflow-x:auto;line-height:normal;font-family:Menlo,'DejaVu Sans Mono',consolas,'Courier New',monospace\">\n",
       "</pre>\n"
      ],
      "text/plain": [
       "\n"
      ]
     },
     "metadata": {},
     "output_type": "display_data"
    },
    {
     "data": {
      "text/html": [
       "<pre style=\"white-space:pre;overflow-x:auto;line-height:normal;font-family:Menlo,'DejaVu Sans Mono',consolas,'Courier New',monospace\"><span style=\"color: #808000; text-decoration-color: #808000\">...</span>|<span style=\"font-weight: bold\">Stats:</span> <span style=\"color: #800080; text-decoration-color: #800080\">N_MSG</span><span style=\"color: #800080; text-decoration-color: #800080\">=</span><span style=\"color: #800080; text-decoration-color: #800080; font-weight: bold\">2</span><span style=\"color: #800080; text-decoration-color: #800080\">, TOKENS: </span><span style=\"color: #800080; text-decoration-color: #800080\">in</span><span style=\"color: #800080; text-decoration-color: #800080\">=</span><span style=\"color: #800080; text-decoration-color: #800080; font-weight: bold\">18</span><span style=\"color: #800080; text-decoration-color: #800080\">, </span><span style=\"color: #800080; text-decoration-color: #800080\">out</span><span style=\"color: #800080; text-decoration-color: #800080\">=</span><span style=\"color: #800080; text-decoration-color: #800080; font-weight: bold\">10</span><span style=\"color: #800080; text-decoration-color: #800080\">, </span><span style=\"color: #800080; text-decoration-color: #800080\">max</span><span style=\"color: #800080; text-decoration-color: #800080\">=</span><span style=\"color: #800080; text-decoration-color: #800080; font-weight: bold\">1024</span><span style=\"color: #800080; text-decoration-color: #800080\">, </span><span style=\"color: #800080; text-decoration-color: #800080\">ctx</span><span style=\"color: #800080; text-decoration-color: #800080\">=</span><span style=\"color: #800080; text-decoration-color: #800080; font-weight: bold\">128000</span><span style=\"color: #800080; text-decoration-color: #800080\">, COST: </span><span style=\"color: #800080; text-decoration-color: #800080\">now</span><span style=\"color: #800080; text-decoration-color: #800080\">=$</span><span style=\"color: #800080; text-decoration-color: #800080; font-weight: bold\">0.0005</span><span style=\"color: #800080; text-decoration-color: #800080\">, </span><span style=\"color: #800080; text-decoration-color: #800080\">cumul</span><span style=\"color: #800080; text-decoration-color: #800080\">=$</span><span style=\"color: #800080; text-decoration-color: #800080; font-weight: bold\">0.0005</span><span style=\"color: #800080; text-decoration-color: #800080\"> </span>\n",
       "<span style=\"color: #800080; text-decoration-color: #800080; font-weight: bold\">(gpt-</span><span style=\"color: #800080; text-decoration-color: #800080; font-weight: bold\">4</span><span style=\"color: #800080; text-decoration-color: #800080; font-weight: bold\">-turbo-preview)</span>\n",
       "</pre>\n"
      ],
      "text/plain": [
       "\u001b[33m...\u001b[0m|\u001b[1mStats:\u001b[0m \u001b[35mN_MSG\u001b[0m\u001b[35m=\u001b[0m\u001b[1;35m2\u001b[0m\u001b[35m, TOKENS: \u001b[0m\u001b[35min\u001b[0m\u001b[35m=\u001b[0m\u001b[1;35m18\u001b[0m\u001b[35m, \u001b[0m\u001b[35mout\u001b[0m\u001b[35m=\u001b[0m\u001b[1;35m10\u001b[0m\u001b[35m, \u001b[0m\u001b[35mmax\u001b[0m\u001b[35m=\u001b[0m\u001b[1;35m1024\u001b[0m\u001b[35m, \u001b[0m\u001b[35mctx\u001b[0m\u001b[35m=\u001b[0m\u001b[1;35m128000\u001b[0m\u001b[35m, COST: \u001b[0m\u001b[35mnow\u001b[0m\u001b[35m=$\u001b[0m\u001b[1;35m0.0005\u001b[0m\u001b[35m, \u001b[0m\u001b[35mcumul\u001b[0m\u001b[35m=$\u001b[0m\u001b[1;35m0.0005\u001b[0m\u001b[35m \u001b[0m\n",
       "\u001b[1;35m(\u001b[0m\u001b[1;35mgpt-\u001b[0m\u001b[1;35m4\u001b[0m\u001b[1;35m-turbo-preview\u001b[0m\u001b[1;35m)\u001b[0m\n"
      ]
     },
     "metadata": {},
     "output_type": "display_data"
    },
    {
     "data": {
      "text/html": [
       "<pre style=\"white-space:pre;overflow-x:auto;line-height:normal;font-family:Menlo,'DejaVu Sans Mono',consolas,'Courier New',monospace\">*<span style=\"font-weight: bold\">(</span>Student<span style=\"font-weight: bold\">)</span> <span style=\"color: #c0c0c0; text-decoration-color: #c0c0c0\"> Entity.LLM </span> <span style=\"color: #008000; text-decoration-color: #008000; font-weight: bold\">Entity.LLM</span><span style=\"font-weight: bold\">(</span>          <span style=\"font-weight: bold\">)</span> <span style=\"font-weight: bold\">(</span>=&gt;          <span style=\"font-weight: bold\">)</span> <span style=\"font-weight: bold\">(</span>X           <span style=\"font-weight: bold\">)</span>       <span style=\"font-weight: bold\">(</span>          <span style=\"font-weight: bold\">)</span> <span style=\"color: #008000; text-decoration-color: #008000\">The square root of </span><span style=\"color: #008000; text-decoration-color: #008000; font-weight: bold\">144</span><span style=\"color: #008000; text-decoration-color: #008000\"> is </span><span style=\"color: #008000; text-decoration-color: #008000; font-weight: bold\">12</span><span style=\"color: #008000; text-decoration-color: #008000\">.</span>\n",
       "</pre>\n"
      ],
      "text/plain": [
       "*\u001b[1m(\u001b[0mStudent\u001b[1m)\u001b[0m \u001b[37m Entity.LLM \u001b[0m \u001b[1;32mEntity.LLM\u001b[0m\u001b[1m(\u001b[0m          \u001b[1m)\u001b[0m \u001b[1m(\u001b[0m=>          \u001b[1m)\u001b[0m \u001b[1m(\u001b[0mX           \u001b[1m)\u001b[0m       \u001b[1m(\u001b[0m          \u001b[1m)\u001b[0m \u001b[32mThe square root of \u001b[0m\u001b[1;32m144\u001b[0m\u001b[32m is \u001b[0m\u001b[1;32m12\u001b[0m\u001b[32m.\u001b[0m\n"
      ]
     },
     "metadata": {},
     "output_type": "display_data"
    },
    {
     "data": {
      "text/html": [
       "<pre style=\"white-space:pre;overflow-x:auto;line-height:normal;font-family:Menlo,'DejaVu Sans Mono',consolas,'Courier New',monospace\"><span style=\"color: #800080; text-decoration-color: #800080; font-weight: bold\">...|&lt;&lt;&lt; Finished Agent Student (</span><span style=\"color: #800080; text-decoration-color: #800080; font-weight: bold\">3</span><span style=\"color: #800080; text-decoration-color: #800080; font-weight: bold\">) </span>\n",
       "</pre>\n"
      ],
      "text/plain": [
       "\u001b[1;35m...\u001b[0m\u001b[1;35m|<<< Finished Agent Student \u001b[0m\u001b[1;35m(\u001b[0m\u001b[1;35m3\u001b[0m\u001b[1;35m)\u001b[0m\u001b[1;35m \u001b[0m\n"
      ]
     },
     "metadata": {},
     "output_type": "display_data"
    },
    {
     "data": {
      "text/html": [
       "<pre style=\"white-space:pre;overflow-x:auto;line-height:normal;font-family:Menlo,'DejaVu Sans Mono',consolas,'Courier New',monospace\">*<span style=\"font-weight: bold\">(</span>Teacher<span style=\"font-weight: bold\">)</span> <span style=\"color: #c0c0c0; text-decoration-color: #c0c0c0\"> Student </span> <span style=\"color: #000080; text-decoration-color: #000080; font-weight: bold\">Entity.USER</span><span style=\"font-weight: bold\">(</span>   Student<span style=\"font-weight: bold\">)</span> <span style=\"font-weight: bold\">(</span>=&gt;          <span style=\"font-weight: bold\">)</span> <span style=\"font-weight: bold\">(</span>X           <span style=\"font-weight: bold\">)</span>       <span style=\"font-weight: bold\">(</span>          <span style=\"font-weight: bold\">)</span> <span style=\"color: #000080; text-decoration-color: #000080\">The square root of </span><span style=\"color: #000080; text-decoration-color: #000080; font-weight: bold\">144</span><span style=\"color: #000080; text-decoration-color: #000080\"> is </span><span style=\"color: #000080; text-decoration-color: #000080; font-weight: bold\">12</span><span style=\"color: #000080; text-decoration-color: #000080\">.</span>\n",
       "</pre>\n"
      ],
      "text/plain": [
       "*\u001b[1m(\u001b[0mTeacher\u001b[1m)\u001b[0m \u001b[37m Student \u001b[0m \u001b[1;34mEntity.USER\u001b[0m\u001b[1m(\u001b[0m   Student\u001b[1m)\u001b[0m \u001b[1m(\u001b[0m=>          \u001b[1m)\u001b[0m \u001b[1m(\u001b[0mX           \u001b[1m)\u001b[0m       \u001b[1m(\u001b[0m          \u001b[1m)\u001b[0m \u001b[34mThe square root of \u001b[0m\u001b[1;34m144\u001b[0m\u001b[34m is \u001b[0m\u001b[1;34m12\u001b[0m\u001b[34m.\u001b[0m\n"
      ]
     },
     "metadata": {},
     "output_type": "display_data"
    },
    {
     "data": {
      "text/html": [
       "<pre style=\"white-space:pre;overflow-x:auto;line-height:normal;font-family:Menlo,'DejaVu Sans Mono',consolas,'Courier New',monospace\"><span style=\"color: #000080; text-decoration-color: #000080\">Human (respond or q, x to exit current level, or hit enter to continue)</span>\n",
       ": </pre>\n"
      ],
      "text/plain": [
       "\u001b[34mHuman (respond or q, x to exit current level, or hit enter to continue)\u001b[0m\n",
       ": "
      ]
     },
     "metadata": {},
     "output_type": "display_data"
    },
    {
     "name": "stdin",
     "output_type": "stream",
     "text": [
      " \n"
     ]
    },
    {
     "data": {
      "text/html": [
       "<pre style=\"white-space:pre;overflow-x:auto;line-height:normal;font-family:Menlo,'DejaVu Sans Mono',consolas,'Courier New',monospace\"> <span style=\"font-weight: bold\">(</span>Teacher<span style=\"font-weight: bold\">)</span> <span style=\"color: #800000; text-decoration-color: #800000\"> Entity.USER </span>\n",
       "</pre>\n"
      ],
      "text/plain": [
       " \u001b[1m(\u001b[0mTeacher\u001b[1m)\u001b[0m \u001b[31m Entity.USER \u001b[0m\n"
      ]
     },
     "metadata": {},
     "output_type": "display_data"
    },
    {
     "data": {
      "text/html": [
       "<pre style=\"white-space:pre;overflow-x:auto;line-height:normal;font-family:Menlo,'DejaVu Sans Mono',consolas,'Courier New',monospace\"> <span style=\"font-weight: bold\">(</span>Teacher<span style=\"font-weight: bold\">)</span> <span style=\"color: #800000; text-decoration-color: #800000\"> Entity.AGENT </span>\n",
       "</pre>\n"
      ],
      "text/plain": [
       " \u001b[1m(\u001b[0mTeacher\u001b[1m)\u001b[0m \u001b[31m Entity.AGENT \u001b[0m\n"
      ]
     },
     "metadata": {},
     "output_type": "display_data"
    },
    {
     "data": {
      "text/html": [
       "<pre style=\"white-space:pre;overflow-x:auto;line-height:normal;font-family:Menlo,'DejaVu Sans Mono',consolas,'Courier New',monospace\"></pre>\n"
      ],
      "text/plain": []
     },
     "metadata": {},
     "output_type": "display_data"
    },
    {
     "name": "stdout",
     "output_type": "stream",
     "text": [
      "\u001b[32m\u001b[32mThat\u001b[32m's\u001b[32m correct\u001b[32m!\u001b[32m Well\u001b[32m done\u001b[32m.\u001b[32m Now\u001b[32m,\u001b[32m can\u001b[32m you\u001b[32m tell\u001b[32m me\u001b[32m what\u001b[32m is\u001b[32m \u001b[32m7\u001b[32m cub\u001b[32med\u001b[32m (\u001b[32m7\u001b[32m^\u001b[32m3\u001b[32m)?"
     ]
    },
    {
     "data": {
      "text/html": [
       "<pre style=\"white-space:pre;overflow-x:auto;line-height:normal;font-family:Menlo,'DejaVu Sans Mono',consolas,'Courier New',monospace\">\n",
       "</pre>\n"
      ],
      "text/plain": [
       "\n"
      ]
     },
     "metadata": {},
     "output_type": "display_data"
    },
    {
     "data": {
      "text/html": [
       "<pre style=\"white-space:pre;overflow-x:auto;line-height:normal;font-family:Menlo,'DejaVu Sans Mono',consolas,'Courier New',monospace\"><span style=\"font-weight: bold\">Stats:</span> <span style=\"color: #800080; text-decoration-color: #800080\">N_MSG</span><span style=\"color: #800080; text-decoration-color: #800080\">=</span><span style=\"color: #800080; text-decoration-color: #800080; font-weight: bold\">3</span><span style=\"color: #800080; text-decoration-color: #800080\">, TOKENS: </span><span style=\"color: #800080; text-decoration-color: #800080\">in</span><span style=\"color: #800080; text-decoration-color: #800080\">=</span><span style=\"color: #800080; text-decoration-color: #800080; font-weight: bold\">37</span><span style=\"color: #800080; text-decoration-color: #800080\">, </span><span style=\"color: #800080; text-decoration-color: #800080\">out</span><span style=\"color: #800080; text-decoration-color: #800080\">=</span><span style=\"color: #800080; text-decoration-color: #800080; font-weight: bold\">24</span><span style=\"color: #800080; text-decoration-color: #800080\">, </span><span style=\"color: #800080; text-decoration-color: #800080\">max</span><span style=\"color: #800080; text-decoration-color: #800080\">=</span><span style=\"color: #800080; text-decoration-color: #800080; font-weight: bold\">1024</span><span style=\"color: #800080; text-decoration-color: #800080\">, </span><span style=\"color: #800080; text-decoration-color: #800080\">ctx</span><span style=\"color: #800080; text-decoration-color: #800080\">=</span><span style=\"color: #800080; text-decoration-color: #800080; font-weight: bold\">128000</span><span style=\"color: #800080; text-decoration-color: #800080\">, COST: </span><span style=\"color: #800080; text-decoration-color: #800080\">now</span><span style=\"color: #800080; text-decoration-color: #800080\">=$</span><span style=\"color: #800080; text-decoration-color: #800080; font-weight: bold\">0.0011</span><span style=\"color: #800080; text-decoration-color: #800080\">, </span><span style=\"color: #800080; text-decoration-color: #800080\">cumul</span><span style=\"color: #800080; text-decoration-color: #800080\">=$</span><span style=\"color: #800080; text-decoration-color: #800080; font-weight: bold\">0.0015</span><span style=\"color: #800080; text-decoration-color: #800080\"> </span><span style=\"color: #800080; text-decoration-color: #800080; font-weight: bold\">(gpt-</span><span style=\"color: #800080; text-decoration-color: #800080; font-weight: bold\">4</span><span style=\"color: #800080; text-decoration-color: #800080; font-weight: bold\">-turbo-preview)</span>\n",
       "</pre>\n"
      ],
      "text/plain": [
       "\u001b[1mStats:\u001b[0m \u001b[35mN_MSG\u001b[0m\u001b[35m=\u001b[0m\u001b[1;35m3\u001b[0m\u001b[35m, TOKENS: \u001b[0m\u001b[35min\u001b[0m\u001b[35m=\u001b[0m\u001b[1;35m37\u001b[0m\u001b[35m, \u001b[0m\u001b[35mout\u001b[0m\u001b[35m=\u001b[0m\u001b[1;35m24\u001b[0m\u001b[35m, \u001b[0m\u001b[35mmax\u001b[0m\u001b[35m=\u001b[0m\u001b[1;35m1024\u001b[0m\u001b[35m, \u001b[0m\u001b[35mctx\u001b[0m\u001b[35m=\u001b[0m\u001b[1;35m128000\u001b[0m\u001b[35m, COST: \u001b[0m\u001b[35mnow\u001b[0m\u001b[35m=$\u001b[0m\u001b[1;35m0.0011\u001b[0m\u001b[35m, \u001b[0m\u001b[35mcumul\u001b[0m\u001b[35m=$\u001b[0m\u001b[1;35m0.0015\u001b[0m\u001b[35m \u001b[0m\u001b[1;35m(\u001b[0m\u001b[1;35mgpt-\u001b[0m\u001b[1;35m4\u001b[0m\u001b[1;35m-turbo-preview\u001b[0m\u001b[1;35m)\u001b[0m\n"
      ]
     },
     "metadata": {},
     "output_type": "display_data"
    },
    {
     "data": {
      "text/html": [
       "<pre style=\"white-space:pre;overflow-x:auto;line-height:normal;font-family:Menlo,'DejaVu Sans Mono',consolas,'Courier New',monospace\">*<span style=\"font-weight: bold\">(</span>Teacher<span style=\"font-weight: bold\">)</span> <span style=\"color: #c0c0c0; text-decoration-color: #c0c0c0\"> Entity.LLM </span> <span style=\"color: #008000; text-decoration-color: #008000; font-weight: bold\">Entity.LLM</span><span style=\"font-weight: bold\">(</span>          <span style=\"font-weight: bold\">)</span> <span style=\"font-weight: bold\">(</span>=&gt;          <span style=\"font-weight: bold\">)</span> <span style=\"font-weight: bold\">(</span>X           <span style=\"font-weight: bold\">)</span>       <span style=\"font-weight: bold\">(</span>          <span style=\"font-weight: bold\">)</span> <span style=\"color: #008000; text-decoration-color: #008000\">That's correct! Well done. Now, can you tell me what is </span><span style=\"color: #008000; text-decoration-color: #008000; font-weight: bold\">7</span><span style=\"color: #008000; text-decoration-color: #008000\"> cubed </span><span style=\"color: #008000; text-decoration-color: #008000; font-weight: bold\">(</span><span style=\"color: #008000; text-decoration-color: #008000; font-weight: bold\">7</span><span style=\"color: #008000; text-decoration-color: #008000\">^</span><span style=\"color: #008000; text-decoration-color: #008000; font-weight: bold\">3</span><span style=\"color: #008000; text-decoration-color: #008000; font-weight: bold\">)</span><span style=\"color: #008000; text-decoration-color: #008000\">?</span>\n",
       "</pre>\n"
      ],
      "text/plain": [
       "*\u001b[1m(\u001b[0mTeacher\u001b[1m)\u001b[0m \u001b[37m Entity.LLM \u001b[0m \u001b[1;32mEntity.LLM\u001b[0m\u001b[1m(\u001b[0m          \u001b[1m)\u001b[0m \u001b[1m(\u001b[0m=>          \u001b[1m)\u001b[0m \u001b[1m(\u001b[0mX           \u001b[1m)\u001b[0m       \u001b[1m(\u001b[0m          \u001b[1m)\u001b[0m \u001b[32mThat's correct! Well done. Now, can you tell me what is \u001b[0m\u001b[1;32m7\u001b[0m\u001b[32m cubed \u001b[0m\u001b[1;32m(\u001b[0m\u001b[1;32m7\u001b[0m\u001b[32m^\u001b[0m\u001b[1;32m3\u001b[0m\u001b[1;32m)\u001b[0m\u001b[32m?\u001b[0m\n"
      ]
     },
     "metadata": {},
     "output_type": "display_data"
    },
    {
     "data": {
      "text/html": [
       "<pre style=\"white-space:pre;overflow-x:auto;line-height:normal;font-family:Menlo,'DejaVu Sans Mono',consolas,'Courier New',monospace\"><span style=\"color: #000080; text-decoration-color: #000080\">Human (respond or q, x to exit current level, or hit enter to continue)</span>\n",
       ": </pre>\n"
      ],
      "text/plain": [
       "\u001b[34mHuman (respond or q, x to exit current level, or hit enter to continue)\u001b[0m\n",
       ": "
      ]
     },
     "metadata": {},
     "output_type": "display_data"
    },
    {
     "name": "stdin",
     "output_type": "stream",
     "text": [
      " \n"
     ]
    },
    {
     "data": {
      "text/html": [
       "<pre style=\"white-space:pre;overflow-x:auto;line-height:normal;font-family:Menlo,'DejaVu Sans Mono',consolas,'Courier New',monospace\"> <span style=\"font-weight: bold\">(</span>Teacher<span style=\"font-weight: bold\">)</span> <span style=\"color: #800000; text-decoration-color: #800000\"> Entity.USER </span>\n",
       "</pre>\n"
      ],
      "text/plain": [
       " \u001b[1m(\u001b[0mTeacher\u001b[1m)\u001b[0m \u001b[31m Entity.USER \u001b[0m\n"
      ]
     },
     "metadata": {},
     "output_type": "display_data"
    },
    {
     "data": {
      "text/html": [
       "<pre style=\"white-space:pre;overflow-x:auto;line-height:normal;font-family:Menlo,'DejaVu Sans Mono',consolas,'Courier New',monospace\"> <span style=\"font-weight: bold\">(</span>Teacher<span style=\"font-weight: bold\">)</span> <span style=\"color: #800000; text-decoration-color: #800000\"> Entity.AGENT </span>\n",
       "</pre>\n"
      ],
      "text/plain": [
       " \u001b[1m(\u001b[0mTeacher\u001b[1m)\u001b[0m \u001b[31m Entity.AGENT \u001b[0m\n"
      ]
     },
     "metadata": {},
     "output_type": "display_data"
    },
    {
     "data": {
      "text/html": [
       "<pre style=\"white-space:pre;overflow-x:auto;line-height:normal;font-family:Menlo,'DejaVu Sans Mono',consolas,'Courier New',monospace\"> <span style=\"font-weight: bold\">(</span>Teacher<span style=\"font-weight: bold\">)</span> <span style=\"color: #800000; text-decoration-color: #800000\"> Entity.LLM </span> <span style=\"color: #008000; text-decoration-color: #008000; font-weight: bold\">Entity.LLM</span><span style=\"font-weight: bold\">(</span>Entity.LLM<span style=\"font-weight: bold\">)</span> <span style=\"font-weight: bold\">(</span>=&gt;          <span style=\"font-weight: bold\">)</span> <span style=\"font-weight: bold\">(</span>X           <span style=\"font-weight: bold\">)</span>       <span style=\"font-weight: bold\">(</span>          <span style=\"font-weight: bold\">)</span> <span style=\"color: #008000; text-decoration-color: #008000; font-weight: bold\">[</span><span style=\"color: #008000; text-decoration-color: #008000\">CANNOT RESPOND</span><span style=\"color: #008000; text-decoration-color: #008000; font-weight: bold\">]</span>\n",
       "</pre>\n"
      ],
      "text/plain": [
       " \u001b[1m(\u001b[0mTeacher\u001b[1m)\u001b[0m \u001b[31m Entity.LLM \u001b[0m \u001b[1;32mEntity.LLM\u001b[0m\u001b[1m(\u001b[0mEntity.LLM\u001b[1m)\u001b[0m \u001b[1m(\u001b[0m=>          \u001b[1m)\u001b[0m \u001b[1m(\u001b[0mX           \u001b[1m)\u001b[0m       \u001b[1m(\u001b[0m          \u001b[1m)\u001b[0m \u001b[1;32m[\u001b[0m\u001b[32mCANNOT RESPOND\u001b[0m\u001b[1;32m]\u001b[0m\n"
      ]
     },
     "metadata": {},
     "output_type": "display_data"
    },
    {
     "data": {
      "text/html": [
       "<pre style=\"white-space:pre;overflow-x:auto;line-height:normal;font-family:Menlo,'DejaVu Sans Mono',consolas,'Courier New',monospace\"> <span style=\"font-weight: bold\">(</span>Student<span style=\"font-weight: bold\">)</span> <span style=\"color: #800000; text-decoration-color: #800000\"> Entity.USER </span> <span style=\"color: #000080; text-decoration-color: #000080; font-weight: bold\">Entity.USER</span><span style=\"font-weight: bold\">(</span>          <span style=\"font-weight: bold\">)</span> <span style=\"font-weight: bold\">(</span>=&gt;          <span style=\"font-weight: bold\">)</span> <span style=\"font-weight: bold\">(</span>X           <span style=\"font-weight: bold\">)</span>       <span style=\"font-weight: bold\">(</span>          <span style=\"font-weight: bold\">)</span> <span style=\"color: #000080; text-decoration-color: #000080\">That's correct! Well done. Now, can you tell me what is </span><span style=\"color: #000080; text-decoration-color: #000080; font-weight: bold\">7</span><span style=\"color: #000080; text-decoration-color: #000080\"> cubed </span><span style=\"color: #000080; text-decoration-color: #000080; font-weight: bold\">(</span><span style=\"color: #000080; text-decoration-color: #000080; font-weight: bold\">7</span><span style=\"color: #000080; text-decoration-color: #000080\">^</span><span style=\"color: #000080; text-decoration-color: #000080; font-weight: bold\">3</span><span style=\"color: #000080; text-decoration-color: #000080; font-weight: bold\">)</span><span style=\"color: #000080; text-decoration-color: #000080\">?</span>\n",
       "</pre>\n"
      ],
      "text/plain": [
       " \u001b[1m(\u001b[0mStudent\u001b[1m)\u001b[0m \u001b[31m Entity.USER \u001b[0m \u001b[1;34mEntity.USER\u001b[0m\u001b[1m(\u001b[0m          \u001b[1m)\u001b[0m \u001b[1m(\u001b[0m=>          \u001b[1m)\u001b[0m \u001b[1m(\u001b[0mX           \u001b[1m)\u001b[0m       \u001b[1m(\u001b[0m          \u001b[1m)\u001b[0m \u001b[34mThat's correct! Well done. Now, can you tell me what is \u001b[0m\u001b[1;34m7\u001b[0m\u001b[34m cubed \u001b[0m\u001b[1;34m(\u001b[0m\u001b[1;34m7\u001b[0m\u001b[34m^\u001b[0m\u001b[1;34m3\u001b[0m\u001b[1;34m)\u001b[0m\u001b[34m?\u001b[0m\n"
      ]
     },
     "metadata": {},
     "output_type": "display_data"
    },
    {
     "data": {
      "text/html": [
       "<pre style=\"white-space:pre;overflow-x:auto;line-height:normal;font-family:Menlo,'DejaVu Sans Mono',consolas,'Courier New',monospace\"><span style=\"color: #800080; text-decoration-color: #800080; font-weight: bold\">...|&gt;&gt;&gt; Starting Agent Student (</span><span style=\"color: #800080; text-decoration-color: #800080; font-weight: bold\">3</span><span style=\"color: #800080; text-decoration-color: #800080; font-weight: bold\">) gpt-</span><span style=\"color: #800080; text-decoration-color: #800080; font-weight: bold\">4</span><span style=\"color: #800080; text-decoration-color: #800080; font-weight: bold\">-turbo-preview </span>\n",
       "</pre>\n"
      ],
      "text/plain": [
       "\u001b[1;35m...\u001b[0m\u001b[1;35m|>>> Starting Agent Student \u001b[0m\u001b[1;35m(\u001b[0m\u001b[1;35m3\u001b[0m\u001b[1;35m)\u001b[0m\u001b[1;35m gpt-\u001b[0m\u001b[1;35m4\u001b[0m\u001b[1;35m-turbo-preview \u001b[0m\n"
      ]
     },
     "metadata": {},
     "output_type": "display_data"
    },
    {
     "data": {
      "text/html": [
       "<pre style=\"white-space:pre;overflow-x:auto;line-height:normal;font-family:Menlo,'DejaVu Sans Mono',consolas,'Courier New',monospace\"> <span style=\"font-weight: bold\">(</span>Student<span style=\"font-weight: bold\">)</span> <span style=\"color: #800000; text-decoration-color: #800000\"> Entity.USER </span> <span style=\"color: #000080; text-decoration-color: #000080; font-weight: bold\">Entity.USER</span><span style=\"font-weight: bold\">(</span>Entity.USER<span style=\"font-weight: bold\">)</span> <span style=\"font-weight: bold\">(</span>=&gt;          <span style=\"font-weight: bold\">)</span> <span style=\"font-weight: bold\">(</span>X           <span style=\"font-weight: bold\">)</span>       <span style=\"font-weight: bold\">(</span>          <span style=\"font-weight: bold\">)</span> <span style=\"color: #000080; text-decoration-color: #000080; font-weight: bold\">[</span><span style=\"color: #000080; text-decoration-color: #000080\">CANNOT RESPOND</span><span style=\"color: #000080; text-decoration-color: #000080; font-weight: bold\">]</span>\n",
       "</pre>\n"
      ],
      "text/plain": [
       " \u001b[1m(\u001b[0mStudent\u001b[1m)\u001b[0m \u001b[31m Entity.USER \u001b[0m \u001b[1;34mEntity.USER\u001b[0m\u001b[1m(\u001b[0mEntity.USER\u001b[1m)\u001b[0m \u001b[1m(\u001b[0m=>          \u001b[1m)\u001b[0m \u001b[1m(\u001b[0mX           \u001b[1m)\u001b[0m       \u001b[1m(\u001b[0m          \u001b[1m)\u001b[0m \u001b[1;34m[\u001b[0m\u001b[34mCANNOT RESPOND\u001b[0m\u001b[1;34m]\u001b[0m\n"
      ]
     },
     "metadata": {},
     "output_type": "display_data"
    },
    {
     "data": {
      "text/html": [
       "<pre style=\"white-space:pre;overflow-x:auto;line-height:normal;font-family:Menlo,'DejaVu Sans Mono',consolas,'Courier New',monospace\"> <span style=\"font-weight: bold\">(</span>Student<span style=\"font-weight: bold\">)</span> <span style=\"color: #800000; text-decoration-color: #800000\"> Entity.AGENT </span>\n",
       "</pre>\n"
      ],
      "text/plain": [
       " \u001b[1m(\u001b[0mStudent\u001b[1m)\u001b[0m \u001b[31m Entity.AGENT \u001b[0m\n"
      ]
     },
     "metadata": {},
     "output_type": "display_data"
    },
    {
     "data": {
      "text/html": [
       "<pre style=\"white-space:pre;overflow-x:auto;line-height:normal;font-family:Menlo,'DejaVu Sans Mono',consolas,'Courier New',monospace\"><span style=\"color: #008000; text-decoration-color: #008000\">...|</span></pre>\n"
      ],
      "text/plain": [
       "\u001b[32m...\u001b[0m\u001b[32m|\u001b[0m"
      ]
     },
     "metadata": {},
     "output_type": "display_data"
    },
    {
     "name": "stdout",
     "output_type": "stream",
     "text": [
      "\u001b[32m\u001b[32m7\u001b[32m cub\u001b[32med\u001b[32m (\u001b[32m7\u001b[32m^\u001b[32m3\u001b[32m)\u001b[32m is\u001b[32m \u001b[32m343\u001b[32m."
     ]
    },
    {
     "data": {
      "text/html": [
       "<pre style=\"white-space:pre;overflow-x:auto;line-height:normal;font-family:Menlo,'DejaVu Sans Mono',consolas,'Courier New',monospace\">\n",
       "</pre>\n"
      ],
      "text/plain": [
       "\n"
      ]
     },
     "metadata": {},
     "output_type": "display_data"
    },
    {
     "data": {
      "text/html": [
       "<pre style=\"white-space:pre;overflow-x:auto;line-height:normal;font-family:Menlo,'DejaVu Sans Mono',consolas,'Courier New',monospace\"><span style=\"color: #808000; text-decoration-color: #808000\">...</span>|<span style=\"font-weight: bold\">Stats:</span> <span style=\"color: #800080; text-decoration-color: #800080\">N_MSG</span><span style=\"color: #800080; text-decoration-color: #800080\">=</span><span style=\"color: #800080; text-decoration-color: #800080; font-weight: bold\">4</span><span style=\"color: #800080; text-decoration-color: #800080\">, TOKENS: </span><span style=\"color: #800080; text-decoration-color: #800080\">in</span><span style=\"color: #800080; text-decoration-color: #800080\">=</span><span style=\"color: #800080; text-decoration-color: #800080; font-weight: bold\">52</span><span style=\"color: #800080; text-decoration-color: #800080\">, </span><span style=\"color: #800080; text-decoration-color: #800080\">out</span><span style=\"color: #800080; text-decoration-color: #800080\">=</span><span style=\"color: #800080; text-decoration-color: #800080; font-weight: bold\">12</span><span style=\"color: #800080; text-decoration-color: #800080\">, </span><span style=\"color: #800080; text-decoration-color: #800080\">max</span><span style=\"color: #800080; text-decoration-color: #800080\">=</span><span style=\"color: #800080; text-decoration-color: #800080; font-weight: bold\">1024</span><span style=\"color: #800080; text-decoration-color: #800080\">, </span><span style=\"color: #800080; text-decoration-color: #800080\">ctx</span><span style=\"color: #800080; text-decoration-color: #800080\">=</span><span style=\"color: #800080; text-decoration-color: #800080; font-weight: bold\">128000</span><span style=\"color: #800080; text-decoration-color: #800080\">, COST: </span><span style=\"color: #800080; text-decoration-color: #800080\">now</span><span style=\"color: #800080; text-decoration-color: #800080\">=$</span><span style=\"color: #800080; text-decoration-color: #800080; font-weight: bold\">0.0009</span><span style=\"color: #800080; text-decoration-color: #800080\">, </span><span style=\"color: #800080; text-decoration-color: #800080\">cumul</span><span style=\"color: #800080; text-decoration-color: #800080\">=$</span><span style=\"color: #800080; text-decoration-color: #800080; font-weight: bold\">0.0014</span><span style=\"color: #800080; text-decoration-color: #800080\"> </span>\n",
       "<span style=\"color: #800080; text-decoration-color: #800080; font-weight: bold\">(gpt-</span><span style=\"color: #800080; text-decoration-color: #800080; font-weight: bold\">4</span><span style=\"color: #800080; text-decoration-color: #800080; font-weight: bold\">-turbo-preview)</span>\n",
       "</pre>\n"
      ],
      "text/plain": [
       "\u001b[33m...\u001b[0m|\u001b[1mStats:\u001b[0m \u001b[35mN_MSG\u001b[0m\u001b[35m=\u001b[0m\u001b[1;35m4\u001b[0m\u001b[35m, TOKENS: \u001b[0m\u001b[35min\u001b[0m\u001b[35m=\u001b[0m\u001b[1;35m52\u001b[0m\u001b[35m, \u001b[0m\u001b[35mout\u001b[0m\u001b[35m=\u001b[0m\u001b[1;35m12\u001b[0m\u001b[35m, \u001b[0m\u001b[35mmax\u001b[0m\u001b[35m=\u001b[0m\u001b[1;35m1024\u001b[0m\u001b[35m, \u001b[0m\u001b[35mctx\u001b[0m\u001b[35m=\u001b[0m\u001b[1;35m128000\u001b[0m\u001b[35m, COST: \u001b[0m\u001b[35mnow\u001b[0m\u001b[35m=$\u001b[0m\u001b[1;35m0.0009\u001b[0m\u001b[35m, \u001b[0m\u001b[35mcumul\u001b[0m\u001b[35m=$\u001b[0m\u001b[1;35m0.0014\u001b[0m\u001b[35m \u001b[0m\n",
       "\u001b[1;35m(\u001b[0m\u001b[1;35mgpt-\u001b[0m\u001b[1;35m4\u001b[0m\u001b[1;35m-turbo-preview\u001b[0m\u001b[1;35m)\u001b[0m\n"
      ]
     },
     "metadata": {},
     "output_type": "display_data"
    },
    {
     "data": {
      "text/html": [
       "<pre style=\"white-space:pre;overflow-x:auto;line-height:normal;font-family:Menlo,'DejaVu Sans Mono',consolas,'Courier New',monospace\">*<span style=\"font-weight: bold\">(</span>Student<span style=\"font-weight: bold\">)</span> <span style=\"color: #c0c0c0; text-decoration-color: #c0c0c0\"> Entity.LLM </span> <span style=\"color: #008000; text-decoration-color: #008000; font-weight: bold\">Entity.LLM</span><span style=\"font-weight: bold\">(</span>          <span style=\"font-weight: bold\">)</span> <span style=\"font-weight: bold\">(</span>=&gt;          <span style=\"font-weight: bold\">)</span> <span style=\"font-weight: bold\">(</span>X           <span style=\"font-weight: bold\">)</span>       <span style=\"font-weight: bold\">(</span>          <span style=\"font-weight: bold\">)</span> <span style=\"color: #008000; text-decoration-color: #008000; font-weight: bold\">7</span><span style=\"color: #008000; text-decoration-color: #008000\"> cubed </span><span style=\"color: #008000; text-decoration-color: #008000; font-weight: bold\">(</span><span style=\"color: #008000; text-decoration-color: #008000; font-weight: bold\">7</span><span style=\"color: #008000; text-decoration-color: #008000\">^</span><span style=\"color: #008000; text-decoration-color: #008000; font-weight: bold\">3</span><span style=\"color: #008000; text-decoration-color: #008000; font-weight: bold\">)</span><span style=\"color: #008000; text-decoration-color: #008000\"> is </span><span style=\"color: #008000; text-decoration-color: #008000; font-weight: bold\">343</span><span style=\"color: #008000; text-decoration-color: #008000\">.</span>\n",
       "</pre>\n"
      ],
      "text/plain": [
       "*\u001b[1m(\u001b[0mStudent\u001b[1m)\u001b[0m \u001b[37m Entity.LLM \u001b[0m \u001b[1;32mEntity.LLM\u001b[0m\u001b[1m(\u001b[0m          \u001b[1m)\u001b[0m \u001b[1m(\u001b[0m=>          \u001b[1m)\u001b[0m \u001b[1m(\u001b[0mX           \u001b[1m)\u001b[0m       \u001b[1m(\u001b[0m          \u001b[1m)\u001b[0m \u001b[1;32m7\u001b[0m\u001b[32m cubed \u001b[0m\u001b[1;32m(\u001b[0m\u001b[1;32m7\u001b[0m\u001b[32m^\u001b[0m\u001b[1;32m3\u001b[0m\u001b[1;32m)\u001b[0m\u001b[32m is \u001b[0m\u001b[1;32m343\u001b[0m\u001b[32m.\u001b[0m\n"
      ]
     },
     "metadata": {},
     "output_type": "display_data"
    },
    {
     "data": {
      "text/html": [
       "<pre style=\"white-space:pre;overflow-x:auto;line-height:normal;font-family:Menlo,'DejaVu Sans Mono',consolas,'Courier New',monospace\"><span style=\"color: #800080; text-decoration-color: #800080; font-weight: bold\">...|&lt;&lt;&lt; Finished Agent Student (</span><span style=\"color: #800080; text-decoration-color: #800080; font-weight: bold\">5</span><span style=\"color: #800080; text-decoration-color: #800080; font-weight: bold\">) </span>\n",
       "</pre>\n"
      ],
      "text/plain": [
       "\u001b[1;35m...\u001b[0m\u001b[1;35m|<<< Finished Agent Student \u001b[0m\u001b[1;35m(\u001b[0m\u001b[1;35m5\u001b[0m\u001b[1;35m)\u001b[0m\u001b[1;35m \u001b[0m\n"
      ]
     },
     "metadata": {},
     "output_type": "display_data"
    },
    {
     "data": {
      "text/html": [
       "<pre style=\"white-space:pre;overflow-x:auto;line-height:normal;font-family:Menlo,'DejaVu Sans Mono',consolas,'Courier New',monospace\">*<span style=\"font-weight: bold\">(</span>Teacher<span style=\"font-weight: bold\">)</span> <span style=\"color: #c0c0c0; text-decoration-color: #c0c0c0\"> Student </span> <span style=\"color: #000080; text-decoration-color: #000080; font-weight: bold\">Entity.USER</span><span style=\"font-weight: bold\">(</span>   Student<span style=\"font-weight: bold\">)</span> <span style=\"font-weight: bold\">(</span>=&gt;          <span style=\"font-weight: bold\">)</span> <span style=\"font-weight: bold\">(</span>X           <span style=\"font-weight: bold\">)</span>       <span style=\"font-weight: bold\">(</span>          <span style=\"font-weight: bold\">)</span> <span style=\"color: #000080; text-decoration-color: #000080; font-weight: bold\">7</span><span style=\"color: #000080; text-decoration-color: #000080\"> cubed </span><span style=\"color: #000080; text-decoration-color: #000080; font-weight: bold\">(</span><span style=\"color: #000080; text-decoration-color: #000080; font-weight: bold\">7</span><span style=\"color: #000080; text-decoration-color: #000080\">^</span><span style=\"color: #000080; text-decoration-color: #000080; font-weight: bold\">3</span><span style=\"color: #000080; text-decoration-color: #000080; font-weight: bold\">)</span><span style=\"color: #000080; text-decoration-color: #000080\"> is </span><span style=\"color: #000080; text-decoration-color: #000080; font-weight: bold\">343</span><span style=\"color: #000080; text-decoration-color: #000080\">.</span>\n",
       "</pre>\n"
      ],
      "text/plain": [
       "*\u001b[1m(\u001b[0mTeacher\u001b[1m)\u001b[0m \u001b[37m Student \u001b[0m \u001b[1;34mEntity.USER\u001b[0m\u001b[1m(\u001b[0m   Student\u001b[1m)\u001b[0m \u001b[1m(\u001b[0m=>          \u001b[1m)\u001b[0m \u001b[1m(\u001b[0mX           \u001b[1m)\u001b[0m       \u001b[1m(\u001b[0m          \u001b[1m)\u001b[0m \u001b[1;34m7\u001b[0m\u001b[34m cubed \u001b[0m\u001b[1;34m(\u001b[0m\u001b[1;34m7\u001b[0m\u001b[34m^\u001b[0m\u001b[1;34m3\u001b[0m\u001b[1;34m)\u001b[0m\u001b[34m is \u001b[0m\u001b[1;34m343\u001b[0m\u001b[34m.\u001b[0m\n"
      ]
     },
     "metadata": {},
     "output_type": "display_data"
    },
    {
     "data": {
      "text/html": [
       "<pre style=\"white-space:pre;overflow-x:auto;line-height:normal;font-family:Menlo,'DejaVu Sans Mono',consolas,'Courier New',monospace\"><span style=\"color: #000080; text-decoration-color: #000080\">Human (respond or q, x to exit current level, or hit enter to continue)</span>\n",
       ": </pre>\n"
      ],
      "text/plain": [
       "\u001b[34mHuman (respond or q, x to exit current level, or hit enter to continue)\u001b[0m\n",
       ": "
      ]
     },
     "metadata": {},
     "output_type": "display_data"
    },
    {
     "name": "stdin",
     "output_type": "stream",
     "text": [
      " \n"
     ]
    },
    {
     "data": {
      "text/html": [
       "<pre style=\"white-space:pre;overflow-x:auto;line-height:normal;font-family:Menlo,'DejaVu Sans Mono',consolas,'Courier New',monospace\"> <span style=\"font-weight: bold\">(</span>Teacher<span style=\"font-weight: bold\">)</span> <span style=\"color: #800000; text-decoration-color: #800000\"> Entity.USER </span>\n",
       "</pre>\n"
      ],
      "text/plain": [
       " \u001b[1m(\u001b[0mTeacher\u001b[1m)\u001b[0m \u001b[31m Entity.USER \u001b[0m\n"
      ]
     },
     "metadata": {},
     "output_type": "display_data"
    },
    {
     "data": {
      "text/html": [
       "<pre style=\"white-space:pre;overflow-x:auto;line-height:normal;font-family:Menlo,'DejaVu Sans Mono',consolas,'Courier New',monospace\"> <span style=\"font-weight: bold\">(</span>Teacher<span style=\"font-weight: bold\">)</span> <span style=\"color: #800000; text-decoration-color: #800000\"> Entity.AGENT </span>\n",
       "</pre>\n"
      ],
      "text/plain": [
       " \u001b[1m(\u001b[0mTeacher\u001b[1m)\u001b[0m \u001b[31m Entity.AGENT \u001b[0m\n"
      ]
     },
     "metadata": {},
     "output_type": "display_data"
    },
    {
     "data": {
      "text/html": [
       "<pre style=\"white-space:pre;overflow-x:auto;line-height:normal;font-family:Menlo,'DejaVu Sans Mono',consolas,'Courier New',monospace\"></pre>\n"
      ],
      "text/plain": []
     },
     "metadata": {},
     "output_type": "display_data"
    },
    {
     "name": "stdout",
     "output_type": "stream",
     "text": [
      "\u001b[32m\u001b[32mExactly\u001b[32m right\u001b[32m!\u001b[32m Great\u001b[32m job\u001b[32m.\u001b[32m Now\u001b[32m,\u001b[32m how\u001b[32m about\u001b[32m calculating\u001b[32m \u001b[32m15\u001b[32m%\u001b[32m of\u001b[32m \u001b[32m200\u001b[32m?"
     ]
    },
    {
     "data": {
      "text/html": [
       "<pre style=\"white-space:pre;overflow-x:auto;line-height:normal;font-family:Menlo,'DejaVu Sans Mono',consolas,'Courier New',monospace\">\n",
       "</pre>\n"
      ],
      "text/plain": [
       "\n"
      ]
     },
     "metadata": {},
     "output_type": "display_data"
    },
    {
     "data": {
      "text/html": [
       "<pre style=\"white-space:pre;overflow-x:auto;line-height:normal;font-family:Menlo,'DejaVu Sans Mono',consolas,'Courier New',monospace\"><span style=\"font-weight: bold\">Stats:</span> <span style=\"color: #800080; text-decoration-color: #800080\">N_MSG</span><span style=\"color: #800080; text-decoration-color: #800080\">=</span><span style=\"color: #800080; text-decoration-color: #800080; font-weight: bold\">5</span><span style=\"color: #800080; text-decoration-color: #800080\">, TOKENS: </span><span style=\"color: #800080; text-decoration-color: #800080\">in</span><span style=\"color: #800080; text-decoration-color: #800080\">=</span><span style=\"color: #800080; text-decoration-color: #800080; font-weight: bold\">73</span><span style=\"color: #800080; text-decoration-color: #800080\">, </span><span style=\"color: #800080; text-decoration-color: #800080\">out</span><span style=\"color: #800080; text-decoration-color: #800080\">=</span><span style=\"color: #800080; text-decoration-color: #800080; font-weight: bold\">18</span><span style=\"color: #800080; text-decoration-color: #800080\">, </span><span style=\"color: #800080; text-decoration-color: #800080\">max</span><span style=\"color: #800080; text-decoration-color: #800080\">=</span><span style=\"color: #800080; text-decoration-color: #800080; font-weight: bold\">1024</span><span style=\"color: #800080; text-decoration-color: #800080\">, </span><span style=\"color: #800080; text-decoration-color: #800080\">ctx</span><span style=\"color: #800080; text-decoration-color: #800080\">=</span><span style=\"color: #800080; text-decoration-color: #800080; font-weight: bold\">128000</span><span style=\"color: #800080; text-decoration-color: #800080\">, COST: </span><span style=\"color: #800080; text-decoration-color: #800080\">now</span><span style=\"color: #800080; text-decoration-color: #800080\">=$</span><span style=\"color: #800080; text-decoration-color: #800080; font-weight: bold\">0.0013</span><span style=\"color: #800080; text-decoration-color: #800080\">, </span><span style=\"color: #800080; text-decoration-color: #800080\">cumul</span><span style=\"color: #800080; text-decoration-color: #800080\">=$</span><span style=\"color: #800080; text-decoration-color: #800080; font-weight: bold\">0.0028</span><span style=\"color: #800080; text-decoration-color: #800080\"> </span><span style=\"color: #800080; text-decoration-color: #800080; font-weight: bold\">(gpt-</span><span style=\"color: #800080; text-decoration-color: #800080; font-weight: bold\">4</span><span style=\"color: #800080; text-decoration-color: #800080; font-weight: bold\">-turbo-preview)</span>\n",
       "</pre>\n"
      ],
      "text/plain": [
       "\u001b[1mStats:\u001b[0m \u001b[35mN_MSG\u001b[0m\u001b[35m=\u001b[0m\u001b[1;35m5\u001b[0m\u001b[35m, TOKENS: \u001b[0m\u001b[35min\u001b[0m\u001b[35m=\u001b[0m\u001b[1;35m73\u001b[0m\u001b[35m, \u001b[0m\u001b[35mout\u001b[0m\u001b[35m=\u001b[0m\u001b[1;35m18\u001b[0m\u001b[35m, \u001b[0m\u001b[35mmax\u001b[0m\u001b[35m=\u001b[0m\u001b[1;35m1024\u001b[0m\u001b[35m, \u001b[0m\u001b[35mctx\u001b[0m\u001b[35m=\u001b[0m\u001b[1;35m128000\u001b[0m\u001b[35m, COST: \u001b[0m\u001b[35mnow\u001b[0m\u001b[35m=$\u001b[0m\u001b[1;35m0.0013\u001b[0m\u001b[35m, \u001b[0m\u001b[35mcumul\u001b[0m\u001b[35m=$\u001b[0m\u001b[1;35m0.0028\u001b[0m\u001b[35m \u001b[0m\u001b[1;35m(\u001b[0m\u001b[1;35mgpt-\u001b[0m\u001b[1;35m4\u001b[0m\u001b[1;35m-turbo-preview\u001b[0m\u001b[1;35m)\u001b[0m\n"
      ]
     },
     "metadata": {},
     "output_type": "display_data"
    },
    {
     "data": {
      "text/html": [
       "<pre style=\"white-space:pre;overflow-x:auto;line-height:normal;font-family:Menlo,'DejaVu Sans Mono',consolas,'Courier New',monospace\">*<span style=\"font-weight: bold\">(</span>Teacher<span style=\"font-weight: bold\">)</span> <span style=\"color: #c0c0c0; text-decoration-color: #c0c0c0\"> Entity.LLM </span> <span style=\"color: #008000; text-decoration-color: #008000; font-weight: bold\">Entity.LLM</span><span style=\"font-weight: bold\">(</span>          <span style=\"font-weight: bold\">)</span> <span style=\"font-weight: bold\">(</span>=&gt;          <span style=\"font-weight: bold\">)</span> <span style=\"font-weight: bold\">(</span>X           <span style=\"font-weight: bold\">)</span>       <span style=\"font-weight: bold\">(</span>          <span style=\"font-weight: bold\">)</span> <span style=\"color: #008000; text-decoration-color: #008000\">Exactly right! Great job. Now, how about calculating </span><span style=\"color: #008000; text-decoration-color: #008000; font-weight: bold\">15</span><span style=\"color: #008000; text-decoration-color: #008000\">% of </span><span style=\"color: #008000; text-decoration-color: #008000; font-weight: bold\">200</span><span style=\"color: #008000; text-decoration-color: #008000\">?</span>\n",
       "</pre>\n"
      ],
      "text/plain": [
       "*\u001b[1m(\u001b[0mTeacher\u001b[1m)\u001b[0m \u001b[37m Entity.LLM \u001b[0m \u001b[1;32mEntity.LLM\u001b[0m\u001b[1m(\u001b[0m          \u001b[1m)\u001b[0m \u001b[1m(\u001b[0m=>          \u001b[1m)\u001b[0m \u001b[1m(\u001b[0mX           \u001b[1m)\u001b[0m       \u001b[1m(\u001b[0m          \u001b[1m)\u001b[0m \u001b[32mExactly right! Great job. Now, how about calculating \u001b[0m\u001b[1;32m15\u001b[0m\u001b[32m% of \u001b[0m\u001b[1;32m200\u001b[0m\u001b[32m?\u001b[0m\n"
      ]
     },
     "metadata": {},
     "output_type": "display_data"
    },
    {
     "data": {
      "text/html": [
       "<pre style=\"white-space:pre;overflow-x:auto;line-height:normal;font-family:Menlo,'DejaVu Sans Mono',consolas,'Courier New',monospace\"><span style=\"color: #000080; text-decoration-color: #000080\">Human (respond or q, x to exit current level, or hit enter to continue)</span>\n",
       ": </pre>\n"
      ],
      "text/plain": [
       "\u001b[34mHuman (respond or q, x to exit current level, or hit enter to continue)\u001b[0m\n",
       ": "
      ]
     },
     "metadata": {},
     "output_type": "display_data"
    },
    {
     "name": "stdin",
     "output_type": "stream",
     "text": [
      " \n"
     ]
    },
    {
     "data": {
      "text/html": [
       "<pre style=\"white-space:pre;overflow-x:auto;line-height:normal;font-family:Menlo,'DejaVu Sans Mono',consolas,'Courier New',monospace\"> <span style=\"font-weight: bold\">(</span>Teacher<span style=\"font-weight: bold\">)</span> <span style=\"color: #800000; text-decoration-color: #800000\"> Entity.USER </span>\n",
       "</pre>\n"
      ],
      "text/plain": [
       " \u001b[1m(\u001b[0mTeacher\u001b[1m)\u001b[0m \u001b[31m Entity.USER \u001b[0m\n"
      ]
     },
     "metadata": {},
     "output_type": "display_data"
    },
    {
     "data": {
      "text/html": [
       "<pre style=\"white-space:pre;overflow-x:auto;line-height:normal;font-family:Menlo,'DejaVu Sans Mono',consolas,'Courier New',monospace\"> <span style=\"font-weight: bold\">(</span>Teacher<span style=\"font-weight: bold\">)</span> <span style=\"color: #800000; text-decoration-color: #800000\"> Entity.AGENT </span>\n",
       "</pre>\n"
      ],
      "text/plain": [
       " \u001b[1m(\u001b[0mTeacher\u001b[1m)\u001b[0m \u001b[31m Entity.AGENT \u001b[0m\n"
      ]
     },
     "metadata": {},
     "output_type": "display_data"
    },
    {
     "data": {
      "text/html": [
       "<pre style=\"white-space:pre;overflow-x:auto;line-height:normal;font-family:Menlo,'DejaVu Sans Mono',consolas,'Courier New',monospace\"> <span style=\"font-weight: bold\">(</span>Teacher<span style=\"font-weight: bold\">)</span> <span style=\"color: #800000; text-decoration-color: #800000\"> Entity.LLM </span> <span style=\"color: #008000; text-decoration-color: #008000; font-weight: bold\">Entity.LLM</span><span style=\"font-weight: bold\">(</span>Entity.LLM<span style=\"font-weight: bold\">)</span> <span style=\"font-weight: bold\">(</span>=&gt;          <span style=\"font-weight: bold\">)</span> <span style=\"font-weight: bold\">(</span>X           <span style=\"font-weight: bold\">)</span>       <span style=\"font-weight: bold\">(</span>          <span style=\"font-weight: bold\">)</span> <span style=\"color: #008000; text-decoration-color: #008000; font-weight: bold\">[</span><span style=\"color: #008000; text-decoration-color: #008000\">CANNOT RESPOND</span><span style=\"color: #008000; text-decoration-color: #008000; font-weight: bold\">]</span>\n",
       "</pre>\n"
      ],
      "text/plain": [
       " \u001b[1m(\u001b[0mTeacher\u001b[1m)\u001b[0m \u001b[31m Entity.LLM \u001b[0m \u001b[1;32mEntity.LLM\u001b[0m\u001b[1m(\u001b[0mEntity.LLM\u001b[1m)\u001b[0m \u001b[1m(\u001b[0m=>          \u001b[1m)\u001b[0m \u001b[1m(\u001b[0mX           \u001b[1m)\u001b[0m       \u001b[1m(\u001b[0m          \u001b[1m)\u001b[0m \u001b[1;32m[\u001b[0m\u001b[32mCANNOT RESPOND\u001b[0m\u001b[1;32m]\u001b[0m\n"
      ]
     },
     "metadata": {},
     "output_type": "display_data"
    },
    {
     "data": {
      "text/html": [
       "<pre style=\"white-space:pre;overflow-x:auto;line-height:normal;font-family:Menlo,'DejaVu Sans Mono',consolas,'Courier New',monospace\"> <span style=\"font-weight: bold\">(</span>Student<span style=\"font-weight: bold\">)</span> <span style=\"color: #800000; text-decoration-color: #800000\"> Entity.USER </span> <span style=\"color: #000080; text-decoration-color: #000080; font-weight: bold\">Entity.USER</span><span style=\"font-weight: bold\">(</span>          <span style=\"font-weight: bold\">)</span> <span style=\"font-weight: bold\">(</span>=&gt;          <span style=\"font-weight: bold\">)</span> <span style=\"font-weight: bold\">(</span>X           <span style=\"font-weight: bold\">)</span>       <span style=\"font-weight: bold\">(</span>          <span style=\"font-weight: bold\">)</span> <span style=\"color: #000080; text-decoration-color: #000080\">Exactly right! Great job. Now, how about calculating </span><span style=\"color: #000080; text-decoration-color: #000080; font-weight: bold\">15</span><span style=\"color: #000080; text-decoration-color: #000080\">% of </span><span style=\"color: #000080; text-decoration-color: #000080; font-weight: bold\">200</span><span style=\"color: #000080; text-decoration-color: #000080\">?</span>\n",
       "</pre>\n"
      ],
      "text/plain": [
       " \u001b[1m(\u001b[0mStudent\u001b[1m)\u001b[0m \u001b[31m Entity.USER \u001b[0m \u001b[1;34mEntity.USER\u001b[0m\u001b[1m(\u001b[0m          \u001b[1m)\u001b[0m \u001b[1m(\u001b[0m=>          \u001b[1m)\u001b[0m \u001b[1m(\u001b[0mX           \u001b[1m)\u001b[0m       \u001b[1m(\u001b[0m          \u001b[1m)\u001b[0m \u001b[34mExactly right! Great job. Now, how about calculating \u001b[0m\u001b[1;34m15\u001b[0m\u001b[34m% of \u001b[0m\u001b[1;34m200\u001b[0m\u001b[34m?\u001b[0m\n"
      ]
     },
     "metadata": {},
     "output_type": "display_data"
    },
    {
     "data": {
      "text/html": [
       "<pre style=\"white-space:pre;overflow-x:auto;line-height:normal;font-family:Menlo,'DejaVu Sans Mono',consolas,'Courier New',monospace\"><span style=\"color: #800080; text-decoration-color: #800080; font-weight: bold\">...|&gt;&gt;&gt; Starting Agent Student (</span><span style=\"color: #800080; text-decoration-color: #800080; font-weight: bold\">5</span><span style=\"color: #800080; text-decoration-color: #800080; font-weight: bold\">) gpt-</span><span style=\"color: #800080; text-decoration-color: #800080; font-weight: bold\">4</span><span style=\"color: #800080; text-decoration-color: #800080; font-weight: bold\">-turbo-preview </span>\n",
       "</pre>\n"
      ],
      "text/plain": [
       "\u001b[1;35m...\u001b[0m\u001b[1;35m|>>> Starting Agent Student \u001b[0m\u001b[1;35m(\u001b[0m\u001b[1;35m5\u001b[0m\u001b[1;35m)\u001b[0m\u001b[1;35m gpt-\u001b[0m\u001b[1;35m4\u001b[0m\u001b[1;35m-turbo-preview \u001b[0m\n"
      ]
     },
     "metadata": {},
     "output_type": "display_data"
    },
    {
     "data": {
      "text/html": [
       "<pre style=\"white-space:pre;overflow-x:auto;line-height:normal;font-family:Menlo,'DejaVu Sans Mono',consolas,'Courier New',monospace\"> <span style=\"font-weight: bold\">(</span>Student<span style=\"font-weight: bold\">)</span> <span style=\"color: #800000; text-decoration-color: #800000\"> Entity.USER </span> <span style=\"color: #000080; text-decoration-color: #000080; font-weight: bold\">Entity.USER</span><span style=\"font-weight: bold\">(</span>Entity.USER<span style=\"font-weight: bold\">)</span> <span style=\"font-weight: bold\">(</span>=&gt;          <span style=\"font-weight: bold\">)</span> <span style=\"font-weight: bold\">(</span>X           <span style=\"font-weight: bold\">)</span>       <span style=\"font-weight: bold\">(</span>          <span style=\"font-weight: bold\">)</span> <span style=\"color: #000080; text-decoration-color: #000080; font-weight: bold\">[</span><span style=\"color: #000080; text-decoration-color: #000080\">CANNOT RESPOND</span><span style=\"color: #000080; text-decoration-color: #000080; font-weight: bold\">]</span>\n",
       "</pre>\n"
      ],
      "text/plain": [
       " \u001b[1m(\u001b[0mStudent\u001b[1m)\u001b[0m \u001b[31m Entity.USER \u001b[0m \u001b[1;34mEntity.USER\u001b[0m\u001b[1m(\u001b[0mEntity.USER\u001b[1m)\u001b[0m \u001b[1m(\u001b[0m=>          \u001b[1m)\u001b[0m \u001b[1m(\u001b[0mX           \u001b[1m)\u001b[0m       \u001b[1m(\u001b[0m          \u001b[1m)\u001b[0m \u001b[1;34m[\u001b[0m\u001b[34mCANNOT RESPOND\u001b[0m\u001b[1;34m]\u001b[0m\n"
      ]
     },
     "metadata": {},
     "output_type": "display_data"
    },
    {
     "data": {
      "text/html": [
       "<pre style=\"white-space:pre;overflow-x:auto;line-height:normal;font-family:Menlo,'DejaVu Sans Mono',consolas,'Courier New',monospace\"> <span style=\"font-weight: bold\">(</span>Student<span style=\"font-weight: bold\">)</span> <span style=\"color: #800000; text-decoration-color: #800000\"> Entity.AGENT </span>\n",
       "</pre>\n"
      ],
      "text/plain": [
       " \u001b[1m(\u001b[0mStudent\u001b[1m)\u001b[0m \u001b[31m Entity.AGENT \u001b[0m\n"
      ]
     },
     "metadata": {},
     "output_type": "display_data"
    },
    {
     "data": {
      "text/html": [
       "<pre style=\"white-space:pre;overflow-x:auto;line-height:normal;font-family:Menlo,'DejaVu Sans Mono',consolas,'Courier New',monospace\"><span style=\"color: #008000; text-decoration-color: #008000\">...|</span></pre>\n"
      ],
      "text/plain": [
       "\u001b[32m...\u001b[0m\u001b[32m|\u001b[0m"
      ]
     },
     "metadata": {},
     "output_type": "display_data"
    },
    {
     "name": "stdout",
     "output_type": "stream",
     "text": [
      "\u001b[32m\u001b[32m15\u001b[32m%\u001b[32m of\u001b[32m \u001b[32m200\u001b[32m is\u001b[32m \u001b[32m30\u001b[32m."
     ]
    },
    {
     "data": {
      "text/html": [
       "<pre style=\"white-space:pre;overflow-x:auto;line-height:normal;font-family:Menlo,'DejaVu Sans Mono',consolas,'Courier New',monospace\">\n",
       "</pre>\n"
      ],
      "text/plain": [
       "\n"
      ]
     },
     "metadata": {},
     "output_type": "display_data"
    },
    {
     "data": {
      "text/html": [
       "<pre style=\"white-space:pre;overflow-x:auto;line-height:normal;font-family:Menlo,'DejaVu Sans Mono',consolas,'Courier New',monospace\"><span style=\"color: #808000; text-decoration-color: #808000\">...</span>|<span style=\"font-weight: bold\">Stats:</span> <span style=\"color: #800080; text-decoration-color: #800080\">N_MSG</span><span style=\"color: #800080; text-decoration-color: #800080\">=</span><span style=\"color: #800080; text-decoration-color: #800080; font-weight: bold\">6</span><span style=\"color: #800080; text-decoration-color: #800080\">, TOKENS: </span><span style=\"color: #800080; text-decoration-color: #800080\">in</span><span style=\"color: #800080; text-decoration-color: #800080\">=</span><span style=\"color: #800080; text-decoration-color: #800080; font-weight: bold\">82</span><span style=\"color: #800080; text-decoration-color: #800080\">, </span><span style=\"color: #800080; text-decoration-color: #800080\">out</span><span style=\"color: #800080; text-decoration-color: #800080\">=</span><span style=\"color: #800080; text-decoration-color: #800080; font-weight: bold\">9</span><span style=\"color: #800080; text-decoration-color: #800080\">, </span><span style=\"color: #800080; text-decoration-color: #800080\">max</span><span style=\"color: #800080; text-decoration-color: #800080\">=</span><span style=\"color: #800080; text-decoration-color: #800080; font-weight: bold\">1024</span><span style=\"color: #800080; text-decoration-color: #800080\">, </span><span style=\"color: #800080; text-decoration-color: #800080\">ctx</span><span style=\"color: #800080; text-decoration-color: #800080\">=</span><span style=\"color: #800080; text-decoration-color: #800080; font-weight: bold\">128000</span><span style=\"color: #800080; text-decoration-color: #800080\">, COST: </span><span style=\"color: #800080; text-decoration-color: #800080\">now</span><span style=\"color: #800080; text-decoration-color: #800080\">=$</span><span style=\"color: #800080; text-decoration-color: #800080; font-weight: bold\">0.0011</span><span style=\"color: #800080; text-decoration-color: #800080\">, </span><span style=\"color: #800080; text-decoration-color: #800080\">cumul</span><span style=\"color: #800080; text-decoration-color: #800080\">=$</span><span style=\"color: #800080; text-decoration-color: #800080; font-weight: bold\">0.0024</span><span style=\"color: #800080; text-decoration-color: #800080\"> </span>\n",
       "<span style=\"color: #800080; text-decoration-color: #800080; font-weight: bold\">(gpt-</span><span style=\"color: #800080; text-decoration-color: #800080; font-weight: bold\">4</span><span style=\"color: #800080; text-decoration-color: #800080; font-weight: bold\">-turbo-preview)</span>\n",
       "</pre>\n"
      ],
      "text/plain": [
       "\u001b[33m...\u001b[0m|\u001b[1mStats:\u001b[0m \u001b[35mN_MSG\u001b[0m\u001b[35m=\u001b[0m\u001b[1;35m6\u001b[0m\u001b[35m, TOKENS: \u001b[0m\u001b[35min\u001b[0m\u001b[35m=\u001b[0m\u001b[1;35m82\u001b[0m\u001b[35m, \u001b[0m\u001b[35mout\u001b[0m\u001b[35m=\u001b[0m\u001b[1;35m9\u001b[0m\u001b[35m, \u001b[0m\u001b[35mmax\u001b[0m\u001b[35m=\u001b[0m\u001b[1;35m1024\u001b[0m\u001b[35m, \u001b[0m\u001b[35mctx\u001b[0m\u001b[35m=\u001b[0m\u001b[1;35m128000\u001b[0m\u001b[35m, COST: \u001b[0m\u001b[35mnow\u001b[0m\u001b[35m=$\u001b[0m\u001b[1;35m0.0011\u001b[0m\u001b[35m, \u001b[0m\u001b[35mcumul\u001b[0m\u001b[35m=$\u001b[0m\u001b[1;35m0.0024\u001b[0m\u001b[35m \u001b[0m\n",
       "\u001b[1;35m(\u001b[0m\u001b[1;35mgpt-\u001b[0m\u001b[1;35m4\u001b[0m\u001b[1;35m-turbo-preview\u001b[0m\u001b[1;35m)\u001b[0m\n"
      ]
     },
     "metadata": {},
     "output_type": "display_data"
    },
    {
     "data": {
      "text/html": [
       "<pre style=\"white-space:pre;overflow-x:auto;line-height:normal;font-family:Menlo,'DejaVu Sans Mono',consolas,'Courier New',monospace\">*<span style=\"font-weight: bold\">(</span>Student<span style=\"font-weight: bold\">)</span> <span style=\"color: #c0c0c0; text-decoration-color: #c0c0c0\"> Entity.LLM </span> <span style=\"color: #008000; text-decoration-color: #008000; font-weight: bold\">Entity.LLM</span><span style=\"font-weight: bold\">(</span>          <span style=\"font-weight: bold\">)</span> <span style=\"font-weight: bold\">(</span>=&gt;          <span style=\"font-weight: bold\">)</span> <span style=\"font-weight: bold\">(</span>X           <span style=\"font-weight: bold\">)</span>       <span style=\"font-weight: bold\">(</span>          <span style=\"font-weight: bold\">)</span> <span style=\"color: #008000; text-decoration-color: #008000; font-weight: bold\">15</span><span style=\"color: #008000; text-decoration-color: #008000\">% of </span><span style=\"color: #008000; text-decoration-color: #008000; font-weight: bold\">200</span><span style=\"color: #008000; text-decoration-color: #008000\"> is </span><span style=\"color: #008000; text-decoration-color: #008000; font-weight: bold\">30</span><span style=\"color: #008000; text-decoration-color: #008000\">.</span>\n",
       "</pre>\n"
      ],
      "text/plain": [
       "*\u001b[1m(\u001b[0mStudent\u001b[1m)\u001b[0m \u001b[37m Entity.LLM \u001b[0m \u001b[1;32mEntity.LLM\u001b[0m\u001b[1m(\u001b[0m          \u001b[1m)\u001b[0m \u001b[1m(\u001b[0m=>          \u001b[1m)\u001b[0m \u001b[1m(\u001b[0mX           \u001b[1m)\u001b[0m       \u001b[1m(\u001b[0m          \u001b[1m)\u001b[0m \u001b[1;32m15\u001b[0m\u001b[32m% of \u001b[0m\u001b[1;32m200\u001b[0m\u001b[32m is \u001b[0m\u001b[1;32m30\u001b[0m\u001b[32m.\u001b[0m\n"
      ]
     },
     "metadata": {},
     "output_type": "display_data"
    },
    {
     "data": {
      "text/html": [
       "<pre style=\"white-space:pre;overflow-x:auto;line-height:normal;font-family:Menlo,'DejaVu Sans Mono',consolas,'Courier New',monospace\"><span style=\"color: #800080; text-decoration-color: #800080; font-weight: bold\">...|&lt;&lt;&lt; Finished Agent Student (</span><span style=\"color: #800080; text-decoration-color: #800080; font-weight: bold\">7</span><span style=\"color: #800080; text-decoration-color: #800080; font-weight: bold\">) </span>\n",
       "</pre>\n"
      ],
      "text/plain": [
       "\u001b[1;35m...\u001b[0m\u001b[1;35m|<<< Finished Agent Student \u001b[0m\u001b[1;35m(\u001b[0m\u001b[1;35m7\u001b[0m\u001b[1;35m)\u001b[0m\u001b[1;35m \u001b[0m\n"
      ]
     },
     "metadata": {},
     "output_type": "display_data"
    },
    {
     "data": {
      "text/html": [
       "<pre style=\"white-space:pre;overflow-x:auto;line-height:normal;font-family:Menlo,'DejaVu Sans Mono',consolas,'Courier New',monospace\">*<span style=\"font-weight: bold\">(</span>Teacher<span style=\"font-weight: bold\">)</span> <span style=\"color: #c0c0c0; text-decoration-color: #c0c0c0\"> Student </span> <span style=\"color: #000080; text-decoration-color: #000080; font-weight: bold\">Entity.USER</span><span style=\"font-weight: bold\">(</span>   Student<span style=\"font-weight: bold\">)</span> <span style=\"font-weight: bold\">(</span>=&gt;          <span style=\"font-weight: bold\">)</span> <span style=\"font-weight: bold\">(</span>X           <span style=\"font-weight: bold\">)</span>       <span style=\"font-weight: bold\">(</span>          <span style=\"font-weight: bold\">)</span> <span style=\"color: #000080; text-decoration-color: #000080; font-weight: bold\">15</span><span style=\"color: #000080; text-decoration-color: #000080\">% of </span><span style=\"color: #000080; text-decoration-color: #000080; font-weight: bold\">200</span><span style=\"color: #000080; text-decoration-color: #000080\"> is </span><span style=\"color: #000080; text-decoration-color: #000080; font-weight: bold\">30</span><span style=\"color: #000080; text-decoration-color: #000080\">.</span>\n",
       "</pre>\n"
      ],
      "text/plain": [
       "*\u001b[1m(\u001b[0mTeacher\u001b[1m)\u001b[0m \u001b[37m Student \u001b[0m \u001b[1;34mEntity.USER\u001b[0m\u001b[1m(\u001b[0m   Student\u001b[1m)\u001b[0m \u001b[1m(\u001b[0m=>          \u001b[1m)\u001b[0m \u001b[1m(\u001b[0mX           \u001b[1m)\u001b[0m       \u001b[1m(\u001b[0m          \u001b[1m)\u001b[0m \u001b[1;34m15\u001b[0m\u001b[34m% of \u001b[0m\u001b[1;34m200\u001b[0m\u001b[34m is \u001b[0m\u001b[1;34m30\u001b[0m\u001b[34m.\u001b[0m\n"
      ]
     },
     "metadata": {},
     "output_type": "display_data"
    },
    {
     "data": {
      "text/html": [
       "<pre style=\"white-space:pre;overflow-x:auto;line-height:normal;font-family:Menlo,'DejaVu Sans Mono',consolas,'Courier New',monospace\"><span style=\"color: #000080; text-decoration-color: #000080\">Human (respond or q, x to exit current level, or hit enter to continue)</span>\n",
       ": </pre>\n"
      ],
      "text/plain": [
       "\u001b[34mHuman (respond or q, x to exit current level, or hit enter to continue)\u001b[0m\n",
       ": "
      ]
     },
     "metadata": {},
     "output_type": "display_data"
    },
    {
     "name": "stdin",
     "output_type": "stream",
     "text": [
      " q\n"
     ]
    },
    {
     "data": {
      "text/html": [
       "<pre style=\"white-space:pre;overflow-x:auto;line-height:normal;font-family:Menlo,'DejaVu Sans Mono',consolas,'Courier New',monospace\">*<span style=\"font-weight: bold\">(</span>Teacher<span style=\"font-weight: bold\">)</span> <span style=\"color: #c0c0c0; text-decoration-color: #c0c0c0\"> Entity.USER </span> <span style=\"color: #000080; text-decoration-color: #000080; font-weight: bold\">Entity.USER</span><span style=\"font-weight: bold\">(</span>          <span style=\"font-weight: bold\">)</span> <span style=\"font-weight: bold\">(</span>=&gt;          <span style=\"font-weight: bold\">)</span> <span style=\"font-weight: bold\">(</span>X           <span style=\"font-weight: bold\">)</span>       <span style=\"font-weight: bold\">(</span>          <span style=\"font-weight: bold\">)</span> <span style=\"color: #000080; text-decoration-color: #000080\">q</span>\n",
       "</pre>\n"
      ],
      "text/plain": [
       "*\u001b[1m(\u001b[0mTeacher\u001b[1m)\u001b[0m \u001b[37m Entity.USER \u001b[0m \u001b[1;34mEntity.USER\u001b[0m\u001b[1m(\u001b[0m          \u001b[1m)\u001b[0m \u001b[1m(\u001b[0m=>          \u001b[1m)\u001b[0m \u001b[1m(\u001b[0mX           \u001b[1m)\u001b[0m       \u001b[1m(\u001b[0m          \u001b[1m)\u001b[0m \u001b[34mq\u001b[0m\n"
      ]
     },
     "metadata": {},
     "output_type": "display_data"
    },
    {
     "data": {
      "text/html": [
       "<pre style=\"white-space:pre;overflow-x:auto;line-height:normal;font-family:Menlo,'DejaVu Sans Mono',consolas,'Courier New',monospace\"><span style=\"color: #800080; text-decoration-color: #800080\">Bye, hope this was useful!</span>\n",
       "</pre>\n"
      ],
      "text/plain": [
       "\u001b[35mBye, hope this was useful!\u001b[0m\n"
      ]
     },
     "metadata": {},
     "output_type": "display_data"
    },
    {
     "data": {
      "text/html": [
       "<pre style=\"white-space:pre;overflow-x:auto;line-height:normal;font-family:Menlo,'DejaVu Sans Mono',consolas,'Courier New',monospace\"><span style=\"color: #800080; text-decoration-color: #800080; font-weight: bold\">&lt;&lt;&lt; Finished Agent Teacher (</span><span style=\"color: #800080; text-decoration-color: #800080; font-weight: bold\">6</span><span style=\"color: #800080; text-decoration-color: #800080; font-weight: bold\">) </span>\n",
       "</pre>\n"
      ],
      "text/plain": [
       "\u001b[1;35m<<< Finished Agent Teacher \u001b[0m\u001b[1;35m(\u001b[0m\u001b[1;35m6\u001b[0m\u001b[1;35m)\u001b[0m\u001b[1;35m \u001b[0m\n"
      ]
     },
     "metadata": {},
     "output_type": "display_data"
    },
    {
     "data": {
      "text/plain": [
       "ChatDocument(content='q', metadata=ChatDocMetaData(source='User', is_chunk=False, id='', window_ids=[], parent=None, sender=<Entity.USER: 'User'>, tool_ids=[], parent_responder=None, block=None, sender_name='Teacher', recipient='', usage=None, cached=False, displayed=False), function_call=None, tool_messages=[], attachment=None)"
      ]
     },
     "execution_count": 5,
     "metadata": {},
     "output_type": "execute_result"
    }
   ],
   "source": [
    "# 2-Agent chat loop: Teacher Agent asks questions to Student Agent\n",
    "teacher_agent = lr.ChatAgent(agent_cfg)\n",
    "teacher_task = lr.Task(\n",
    "  teacher_agent, name=\"Teacher\",\n",
    "  system_message=\"\"\"\n",
    "    Ask your student concise numbers questions, and give feedback. \n",
    "    Start with a question.\n",
    "    \"\"\"\n",
    ")\n",
    "student_agent = lr.ChatAgent(agent_cfg)\n",
    "student_task = lr.Task(\n",
    "  student_agent, name=\"Student\",\n",
    "  system_message=\"Concisely answer the teacher's questions.\",\n",
    "  single_round=True,\n",
    ")\n",
    "\n",
    "teacher_task.add_sub_task(student_task)\n",
    "teacher_task.run()"
   ]
  },
  {
   "cell_type": "code",
   "execution_count": null,
   "id": "3e5a9c0c-2211-4031-8bf5-fc7e953cf201",
   "metadata": {},
   "outputs": [],
   "source": []
  }
 ],
 "metadata": {
  "kernelspec": {
   "display_name": "Python 3 (ipykernel)",
   "language": "python",
   "name": "python3"
  },
  "language_info": {
   "codemirror_mode": {
    "name": "ipython",
    "version": 3
   },
   "file_extension": ".py",
   "mimetype": "text/x-python",
   "name": "python",
   "nbconvert_exporter": "python",
   "pygments_lexer": "ipython3",
   "version": "3.11.7"
  }
 },
 "nbformat": 4,
 "nbformat_minor": 5
}
